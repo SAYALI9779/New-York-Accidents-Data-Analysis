{
  "nbformat": 4,
  "nbformat_minor": 0,
  "metadata": {
    "colab": {
      "provenance": []
    },
    "kernelspec": {
      "name": "python3",
      "display_name": "Python 3"
    },
    "language_info": {
      "name": "python"
    },
    "widgets": {
      "application/vnd.jupyter.widget-state+json": {
        "1b695b4b51f14ad8b45045a8af7f9eea": {
          "model_module": "@jupyter-widgets/controls",
          "model_name": "VBoxModel",
          "model_module_version": "1.5.0",
          "state": {
            "_dom_classes": [
              "widget-interact"
            ],
            "_model_module": "@jupyter-widgets/controls",
            "_model_module_version": "1.5.0",
            "_model_name": "VBoxModel",
            "_view_count": null,
            "_view_module": "@jupyter-widgets/controls",
            "_view_module_version": "1.5.0",
            "_view_name": "VBoxView",
            "box_style": "",
            "children": [
              "IPY_MODEL_f27972205cf94940adf9424651bfc920",
              "IPY_MODEL_f90a2da089c9472b839dcd62fe2849f2",
              "IPY_MODEL_24dfadc3baf44126955e9e090703bdf1"
            ],
            "layout": "IPY_MODEL_5288ca6f7c49428790767bc47976b7fd"
          }
        },
        "f27972205cf94940adf9424651bfc920": {
          "model_module": "@jupyter-widgets/controls",
          "model_name": "DropdownModel",
          "model_module_version": "1.5.0",
          "state": {
            "_dom_classes": [],
            "_model_module": "@jupyter-widgets/controls",
            "_model_module_version": "1.5.0",
            "_model_name": "DropdownModel",
            "_options_labels": [
              "2018",
              "2022",
              "2020",
              "2021",
              "2019"
            ],
            "_view_count": null,
            "_view_module": "@jupyter-widgets/controls",
            "_view_module_version": "1.5.0",
            "_view_name": "DropdownView",
            "description": "Year:",
            "description_tooltip": null,
            "disabled": false,
            "index": 0,
            "layout": "IPY_MODEL_d3618ac3f8ab4771865b158778df4f33",
            "style": "IPY_MODEL_212ee690a17f4d70bd203e1667deb30a"
          }
        },
        "f90a2da089c9472b839dcd62fe2849f2": {
          "model_module": "@jupyter-widgets/controls",
          "model_name": "DropdownModel",
          "model_module_version": "1.5.0",
          "state": {
            "_dom_classes": [],
            "_model_module": "@jupyter-widgets/controls",
            "_model_module_version": "1.5.0",
            "_model_name": "DropdownModel",
            "_options_labels": [
              "10",
              "2",
              "5",
              "11",
              "7",
              "8",
              "9",
              "1",
              "12",
              "3",
              "6",
              "4"
            ],
            "_view_count": null,
            "_view_module": "@jupyter-widgets/controls",
            "_view_module_version": "1.5.0",
            "_view_name": "DropdownView",
            "description": "Month:",
            "description_tooltip": null,
            "disabled": false,
            "index": 0,
            "layout": "IPY_MODEL_1e48f4550fb54ee8913aaa8b8f4fd6e4",
            "style": "IPY_MODEL_94931b325b6444c1a523de0720a75b88"
          }
        },
        "24dfadc3baf44126955e9e090703bdf1": {
          "model_module": "@jupyter-widgets/output",
          "model_name": "OutputModel",
          "model_module_version": "1.0.0",
          "state": {
            "_dom_classes": [],
            "_model_module": "@jupyter-widgets/output",
            "_model_module_version": "1.0.0",
            "_model_name": "OutputModel",
            "_view_count": null,
            "_view_module": "@jupyter-widgets/output",
            "_view_module_version": "1.0.0",
            "_view_name": "OutputView",
            "layout": "IPY_MODEL_86ee1e683c474c3c8c1065fa2455045e",
            "msg_id": "",
            "outputs": [
              {
                "output_type": "display_data",
                "data": {
                  "text/plain": "                        contributing_factor_vehicle_1  \\\n0                               Accelerator Defective   \n1                        Aggressive Driving/Road Rage   \n2                                 Alcohol Involvement   \n3                                      Animals Action   \n4                                    Backing Unsafely   \n5                                    Brakes Defective   \n6                              Cell Phone (hand-Held)   \n7                      Driver Inattention/Distraction   \n8                                 Driver Inexperience   \n9                          Driverless/Runaway Vehicle   \n10                              Failure to Keep Right   \n11                      Failure to Yield Right-of-Way   \n12                                    Fatigued/Drowsy   \n13                                        Fell Asleep   \n14                              Following Too Closely   \n15                                              Glare   \n16                                             Illnes   \n17                   Lane Marking Improper/Inadequate   \n18                         Listening/Using Headphones   \n19                                 Lost Consciousness   \n20                                 Obstruction/Debris   \n21                            Other Electronic Device   \n22                             Other Lighting Defects   \n23                                    Other Vehicular   \n24                            Outside Car Distraction   \n25                                  Oversized Vehicle   \n26                              Passenger Distraction   \n27                                Passing Too Closely   \n28                     Passing or Lane Usage Improper   \n29                                 Pavement Defective   \n30                                  Pavement Slippery   \n31  Pedestrian/Bicyclist/Other Pedestrian Error/Co...   \n32                     Reaction to Uninvolved Vehicle   \n33                                   Steering Failure   \n34                            Tire Failure/Inadequate   \n35                                Tow Hitch Defective   \n36                        Traffic Control Disregarded   \n37                                 Turning Improperly   \n38                               Unsafe Lane Changing   \n39                                       Unsafe Speed   \n40                                        Unspecified   \n41                   Using On Board Navigation Device   \n42                            View Obstructed/Limited   \n\n    number_of_cyclist_injured  number_of_cyclist_killed  \\\n0                           0                         0   \n1                           0                         0   \n2                           0                         0   \n3                           0                         0   \n4                           0                         0   \n5                           0                         0   \n6                           0                         0   \n7                          38                         0   \n8                           1                         0   \n9                           0                         0   \n10                          0                         0   \n11                         12                         0   \n12                          0                         0   \n13                          0                         0   \n14                          3                         0   \n15                          1                         0   \n16                          0                         0   \n17                          0                         0   \n18                          0                         0   \n19                          0                         0   \n20                          0                         0   \n21                          0                         0   \n22                          0                         0   \n23                          0                         0   \n24                          2                         0   \n25                          0                         0   \n26                          1                         0   \n27                          1                         0   \n28                          7                         0   \n29                          0                         0   \n30                          0                         0   \n31                         10                         0   \n32                          1                         0   \n33                          0                         0   \n34                          0                         0   \n35                          0                         0   \n36                          3                         0   \n37                          3                         0   \n38                          0                         0   \n39                          1                         0   \n40                         33                         0   \n41                          0                         0   \n42                          2                         0   \n\n    number_of_motorist_injured  number_of_motorist_killed  \\\n0                            2                          0   \n1                            7                          0   \n2                            7                          0   \n3                            0                          0   \n4                           11                          0   \n5                            5                          0   \n6                            0                          0   \n7                          186                          1   \n8                           16                          0   \n9                            1                          0   \n10                           0                          0   \n11                          89                          1   \n12                           2                          0   \n13                           6                          0   \n14                          80                          0   \n15                           0                          0   \n16                           5                          0   \n17                           0                          0   \n18                           3                          0   \n19                           5                          1   \n20                           2                          0   \n21                           0                          0   \n22                           0                          0   \n23                          25                          0   \n24                           0                          0   \n25                           3                          0   \n26                           5                          0   \n27                           9                          0   \n28                          20                          0   \n29                           2                          0   \n30                           3                          0   \n31                           1                          0   \n32                           5                          0   \n33                           1                          0   \n34                           0                          0   \n35                           0                          0   \n36                          45                          0   \n37                          12                          0   \n38                          11                          0   \n39                          31                          0   \n40                         168                          0   \n41                           1                          0   \n42                           3                          0   \n\n    number_of_pedestrians_injured  number_of_pedestrians_killed  \\\n0                               1                             0   \n1                               1                             0   \n2                               0                             0   \n3                               0                             0   \n4                              12                             0   \n5                               0                             0   \n6                               0                             0   \n7                              62                             0   \n8                               3                             0   \n9                               0                             0   \n10                              0                             0   \n11                             53                             1   \n12                              0                             0   \n13                              0                             0   \n14                              0                             0   \n15                              1                             0   \n16                              0                             0   \n17                              0                             0   \n18                              0                             0   \n19                              0                             0   \n20                              0                             0   \n21                              0                             0   \n22                              0                             0   \n23                              2                             0   \n24                              1                             0   \n25                              0                             0   \n26                              0                             0   \n27                              3                             0   \n28                              0                             0   \n29                              0                             0   \n30                              1                             0   \n31                              8                             1   \n32                              0                             0   \n33                              0                             0   \n34                              0                             0   \n35                              0                             0   \n36                              4                             0   \n37                              0                             0   \n38                              1                             0   \n39                              1                             0   \n40                             83                             0   \n41                              0                             0   \n42                              4                             0   \n\n    number_of_persons_injured  number_of_persons_killed  \n0                           3                         0  \n1                           8                         0  \n2                           7                         0  \n3                           0                         0  \n4                          23                         0  \n5                           5                         0  \n6                           0                         0  \n7                         286                         1  \n8                          20                         0  \n9                           1                         0  \n10                          0                         0  \n11                        154                         2  \n12                          2                         0  \n13                          6                         0  \n14                         83                         0  \n15                          2                         0  \n16                          5                         0  \n17                          0                         0  \n18                          3                         0  \n19                          5                         1  \n20                          2                         0  \n21                          0                         0  \n22                          0                         0  \n23                         27                         0  \n24                          3                         0  \n25                          3                         0  \n26                          6                         0  \n27                         13                         0  \n28                         27                         0  \n29                          2                         0  \n30                          4                         0  \n31                         19                         1  \n32                          6                         0  \n33                          1                         0  \n34                          0                         0  \n35                          0                         0  \n36                         52                         0  \n37                         15                         0  \n38                         12                         0  \n39                         33                         0  \n40                        284                         0  \n41                          1                         0  \n42                          9                         0  ",
                  "text/html": "\n  <div id=\"df-caa151a5-e638-4dcd-860c-21ab6a7a2fd8\" class=\"colab-df-container\">\n    <div>\n<style scoped>\n    .dataframe tbody tr th:only-of-type {\n        vertical-align: middle;\n    }\n\n    .dataframe tbody tr th {\n        vertical-align: top;\n    }\n\n    .dataframe thead th {\n        text-align: right;\n    }\n</style>\n<table border=\"1\" class=\"dataframe\">\n  <thead>\n    <tr style=\"text-align: right;\">\n      <th></th>\n      <th>contributing_factor_vehicle_1</th>\n      <th>number_of_cyclist_injured</th>\n      <th>number_of_cyclist_killed</th>\n      <th>number_of_motorist_injured</th>\n      <th>number_of_motorist_killed</th>\n      <th>number_of_pedestrians_injured</th>\n      <th>number_of_pedestrians_killed</th>\n      <th>number_of_persons_injured</th>\n      <th>number_of_persons_killed</th>\n    </tr>\n  </thead>\n  <tbody>\n    <tr>\n      <th>0</th>\n      <td>Accelerator Defective</td>\n      <td>0</td>\n      <td>0</td>\n      <td>2</td>\n      <td>0</td>\n      <td>1</td>\n      <td>0</td>\n      <td>3</td>\n      <td>0</td>\n    </tr>\n    <tr>\n      <th>1</th>\n      <td>Aggressive Driving/Road Rage</td>\n      <td>0</td>\n      <td>0</td>\n      <td>7</td>\n      <td>0</td>\n      <td>1</td>\n      <td>0</td>\n      <td>8</td>\n      <td>0</td>\n    </tr>\n    <tr>\n      <th>2</th>\n      <td>Alcohol Involvement</td>\n      <td>0</td>\n      <td>0</td>\n      <td>7</td>\n      <td>0</td>\n      <td>0</td>\n      <td>0</td>\n      <td>7</td>\n      <td>0</td>\n    </tr>\n    <tr>\n      <th>3</th>\n      <td>Animals Action</td>\n      <td>0</td>\n      <td>0</td>\n      <td>0</td>\n      <td>0</td>\n      <td>0</td>\n      <td>0</td>\n      <td>0</td>\n      <td>0</td>\n    </tr>\n    <tr>\n      <th>4</th>\n      <td>Backing Unsafely</td>\n      <td>0</td>\n      <td>0</td>\n      <td>11</td>\n      <td>0</td>\n      <td>12</td>\n      <td>0</td>\n      <td>23</td>\n      <td>0</td>\n    </tr>\n    <tr>\n      <th>5</th>\n      <td>Brakes Defective</td>\n      <td>0</td>\n      <td>0</td>\n      <td>5</td>\n      <td>0</td>\n      <td>0</td>\n      <td>0</td>\n      <td>5</td>\n      <td>0</td>\n    </tr>\n    <tr>\n      <th>6</th>\n      <td>Cell Phone (hand-Held)</td>\n      <td>0</td>\n      <td>0</td>\n      <td>0</td>\n      <td>0</td>\n      <td>0</td>\n      <td>0</td>\n      <td>0</td>\n      <td>0</td>\n    </tr>\n    <tr>\n      <th>7</th>\n      <td>Driver Inattention/Distraction</td>\n      <td>38</td>\n      <td>0</td>\n      <td>186</td>\n      <td>1</td>\n      <td>62</td>\n      <td>0</td>\n      <td>286</td>\n      <td>1</td>\n    </tr>\n    <tr>\n      <th>8</th>\n      <td>Driver Inexperience</td>\n      <td>1</td>\n      <td>0</td>\n      <td>16</td>\n      <td>0</td>\n      <td>3</td>\n      <td>0</td>\n      <td>20</td>\n      <td>0</td>\n    </tr>\n    <tr>\n      <th>9</th>\n      <td>Driverless/Runaway Vehicle</td>\n      <td>0</td>\n      <td>0</td>\n      <td>1</td>\n      <td>0</td>\n      <td>0</td>\n      <td>0</td>\n      <td>1</td>\n      <td>0</td>\n    </tr>\n    <tr>\n      <th>10</th>\n      <td>Failure to Keep Right</td>\n      <td>0</td>\n      <td>0</td>\n      <td>0</td>\n      <td>0</td>\n      <td>0</td>\n      <td>0</td>\n      <td>0</td>\n      <td>0</td>\n    </tr>\n    <tr>\n      <th>11</th>\n      <td>Failure to Yield Right-of-Way</td>\n      <td>12</td>\n      <td>0</td>\n      <td>89</td>\n      <td>1</td>\n      <td>53</td>\n      <td>1</td>\n      <td>154</td>\n      <td>2</td>\n    </tr>\n    <tr>\n      <th>12</th>\n      <td>Fatigued/Drowsy</td>\n      <td>0</td>\n      <td>0</td>\n      <td>2</td>\n      <td>0</td>\n      <td>0</td>\n      <td>0</td>\n      <td>2</td>\n      <td>0</td>\n    </tr>\n    <tr>\n      <th>13</th>\n      <td>Fell Asleep</td>\n      <td>0</td>\n      <td>0</td>\n      <td>6</td>\n      <td>0</td>\n      <td>0</td>\n      <td>0</td>\n      <td>6</td>\n      <td>0</td>\n    </tr>\n    <tr>\n      <th>14</th>\n      <td>Following Too Closely</td>\n      <td>3</td>\n      <td>0</td>\n      <td>80</td>\n      <td>0</td>\n      <td>0</td>\n      <td>0</td>\n      <td>83</td>\n      <td>0</td>\n    </tr>\n    <tr>\n      <th>15</th>\n      <td>Glare</td>\n      <td>1</td>\n      <td>0</td>\n      <td>0</td>\n      <td>0</td>\n      <td>1</td>\n      <td>0</td>\n      <td>2</td>\n      <td>0</td>\n    </tr>\n    <tr>\n      <th>16</th>\n      <td>Illnes</td>\n      <td>0</td>\n      <td>0</td>\n      <td>5</td>\n      <td>0</td>\n      <td>0</td>\n      <td>0</td>\n      <td>5</td>\n      <td>0</td>\n    </tr>\n    <tr>\n      <th>17</th>\n      <td>Lane Marking Improper/Inadequate</td>\n      <td>0</td>\n      <td>0</td>\n      <td>0</td>\n      <td>0</td>\n      <td>0</td>\n      <td>0</td>\n      <td>0</td>\n      <td>0</td>\n    </tr>\n    <tr>\n      <th>18</th>\n      <td>Listening/Using Headphones</td>\n      <td>0</td>\n      <td>0</td>\n      <td>3</td>\n      <td>0</td>\n      <td>0</td>\n      <td>0</td>\n      <td>3</td>\n      <td>0</td>\n    </tr>\n    <tr>\n      <th>19</th>\n      <td>Lost Consciousness</td>\n      <td>0</td>\n      <td>0</td>\n      <td>5</td>\n      <td>1</td>\n      <td>0</td>\n      <td>0</td>\n      <td>5</td>\n      <td>1</td>\n    </tr>\n    <tr>\n      <th>20</th>\n      <td>Obstruction/Debris</td>\n      <td>0</td>\n      <td>0</td>\n      <td>2</td>\n      <td>0</td>\n      <td>0</td>\n      <td>0</td>\n      <td>2</td>\n      <td>0</td>\n    </tr>\n    <tr>\n      <th>21</th>\n      <td>Other Electronic Device</td>\n      <td>0</td>\n      <td>0</td>\n      <td>0</td>\n      <td>0</td>\n      <td>0</td>\n      <td>0</td>\n      <td>0</td>\n      <td>0</td>\n    </tr>\n    <tr>\n      <th>22</th>\n      <td>Other Lighting Defects</td>\n      <td>0</td>\n      <td>0</td>\n      <td>0</td>\n      <td>0</td>\n      <td>0</td>\n      <td>0</td>\n      <td>0</td>\n      <td>0</td>\n    </tr>\n    <tr>\n      <th>23</th>\n      <td>Other Vehicular</td>\n      <td>0</td>\n      <td>0</td>\n      <td>25</td>\n      <td>0</td>\n      <td>2</td>\n      <td>0</td>\n      <td>27</td>\n      <td>0</td>\n    </tr>\n    <tr>\n      <th>24</th>\n      <td>Outside Car Distraction</td>\n      <td>2</td>\n      <td>0</td>\n      <td>0</td>\n      <td>0</td>\n      <td>1</td>\n      <td>0</td>\n      <td>3</td>\n      <td>0</td>\n    </tr>\n    <tr>\n      <th>25</th>\n      <td>Oversized Vehicle</td>\n      <td>0</td>\n      <td>0</td>\n      <td>3</td>\n      <td>0</td>\n      <td>0</td>\n      <td>0</td>\n      <td>3</td>\n      <td>0</td>\n    </tr>\n    <tr>\n      <th>26</th>\n      <td>Passenger Distraction</td>\n      <td>1</td>\n      <td>0</td>\n      <td>5</td>\n      <td>0</td>\n      <td>0</td>\n      <td>0</td>\n      <td>6</td>\n      <td>0</td>\n    </tr>\n    <tr>\n      <th>27</th>\n      <td>Passing Too Closely</td>\n      <td>1</td>\n      <td>0</td>\n      <td>9</td>\n      <td>0</td>\n      <td>3</td>\n      <td>0</td>\n      <td>13</td>\n      <td>0</td>\n    </tr>\n    <tr>\n      <th>28</th>\n      <td>Passing or Lane Usage Improper</td>\n      <td>7</td>\n      <td>0</td>\n      <td>20</td>\n      <td>0</td>\n      <td>0</td>\n      <td>0</td>\n      <td>27</td>\n      <td>0</td>\n    </tr>\n    <tr>\n      <th>29</th>\n      <td>Pavement Defective</td>\n      <td>0</td>\n      <td>0</td>\n      <td>2</td>\n      <td>0</td>\n      <td>0</td>\n      <td>0</td>\n      <td>2</td>\n      <td>0</td>\n    </tr>\n    <tr>\n      <th>30</th>\n      <td>Pavement Slippery</td>\n      <td>0</td>\n      <td>0</td>\n      <td>3</td>\n      <td>0</td>\n      <td>1</td>\n      <td>0</td>\n      <td>4</td>\n      <td>0</td>\n    </tr>\n    <tr>\n      <th>31</th>\n      <td>Pedestrian/Bicyclist/Other Pedestrian Error/Co...</td>\n      <td>10</td>\n      <td>0</td>\n      <td>1</td>\n      <td>0</td>\n      <td>8</td>\n      <td>1</td>\n      <td>19</td>\n      <td>1</td>\n    </tr>\n    <tr>\n      <th>32</th>\n      <td>Reaction to Uninvolved Vehicle</td>\n      <td>1</td>\n      <td>0</td>\n      <td>5</td>\n      <td>0</td>\n      <td>0</td>\n      <td>0</td>\n      <td>6</td>\n      <td>0</td>\n    </tr>\n    <tr>\n      <th>33</th>\n      <td>Steering Failure</td>\n      <td>0</td>\n      <td>0</td>\n      <td>1</td>\n      <td>0</td>\n      <td>0</td>\n      <td>0</td>\n      <td>1</td>\n      <td>0</td>\n    </tr>\n    <tr>\n      <th>34</th>\n      <td>Tire Failure/Inadequate</td>\n      <td>0</td>\n      <td>0</td>\n      <td>0</td>\n      <td>0</td>\n      <td>0</td>\n      <td>0</td>\n      <td>0</td>\n      <td>0</td>\n    </tr>\n    <tr>\n      <th>35</th>\n      <td>Tow Hitch Defective</td>\n      <td>0</td>\n      <td>0</td>\n      <td>0</td>\n      <td>0</td>\n      <td>0</td>\n      <td>0</td>\n      <td>0</td>\n      <td>0</td>\n    </tr>\n    <tr>\n      <th>36</th>\n      <td>Traffic Control Disregarded</td>\n      <td>3</td>\n      <td>0</td>\n      <td>45</td>\n      <td>0</td>\n      <td>4</td>\n      <td>0</td>\n      <td>52</td>\n      <td>0</td>\n    </tr>\n    <tr>\n      <th>37</th>\n      <td>Turning Improperly</td>\n      <td>3</td>\n      <td>0</td>\n      <td>12</td>\n      <td>0</td>\n      <td>0</td>\n      <td>0</td>\n      <td>15</td>\n      <td>0</td>\n    </tr>\n    <tr>\n      <th>38</th>\n      <td>Unsafe Lane Changing</td>\n      <td>0</td>\n      <td>0</td>\n      <td>11</td>\n      <td>0</td>\n      <td>1</td>\n      <td>0</td>\n      <td>12</td>\n      <td>0</td>\n    </tr>\n    <tr>\n      <th>39</th>\n      <td>Unsafe Speed</td>\n      <td>1</td>\n      <td>0</td>\n      <td>31</td>\n      <td>0</td>\n      <td>1</td>\n      <td>0</td>\n      <td>33</td>\n      <td>0</td>\n    </tr>\n    <tr>\n      <th>40</th>\n      <td>Unspecified</td>\n      <td>33</td>\n      <td>0</td>\n      <td>168</td>\n      <td>0</td>\n      <td>83</td>\n      <td>0</td>\n      <td>284</td>\n      <td>0</td>\n    </tr>\n    <tr>\n      <th>41</th>\n      <td>Using On Board Navigation Device</td>\n      <td>0</td>\n      <td>0</td>\n      <td>1</td>\n      <td>0</td>\n      <td>0</td>\n      <td>0</td>\n      <td>1</td>\n      <td>0</td>\n    </tr>\n    <tr>\n      <th>42</th>\n      <td>View Obstructed/Limited</td>\n      <td>2</td>\n      <td>0</td>\n      <td>3</td>\n      <td>0</td>\n      <td>4</td>\n      <td>0</td>\n      <td>9</td>\n      <td>0</td>\n    </tr>\n  </tbody>\n</table>\n</div>\n    <div class=\"colab-df-buttons\">\n\n  <div class=\"colab-df-container\">\n    <button class=\"colab-df-convert\" onclick=\"convertToInteractive('df-caa151a5-e638-4dcd-860c-21ab6a7a2fd8')\"\n            title=\"Convert this dataframe to an interactive table.\"\n            style=\"display:none;\">\n\n  <svg xmlns=\"http://www.w3.org/2000/svg\" height=\"24px\" viewBox=\"0 -960 960 960\">\n    <path d=\"M120-120v-720h720v720H120Zm60-500h600v-160H180v160Zm220 220h160v-160H400v160Zm0 220h160v-160H400v160ZM180-400h160v-160H180v160Zm440 0h160v-160H620v160ZM180-180h160v-160H180v160Zm440 0h160v-160H620v160Z\"/>\n  </svg>\n    </button>\n\n  <style>\n    .colab-df-container {\n      display:flex;\n      gap: 12px;\n    }\n\n    .colab-df-convert {\n      background-color: #E8F0FE;\n      border: none;\n      border-radius: 50%;\n      cursor: pointer;\n      display: none;\n      fill: #1967D2;\n      height: 32px;\n      padding: 0 0 0 0;\n      width: 32px;\n    }\n\n    .colab-df-convert:hover {\n      background-color: #E2EBFA;\n      box-shadow: 0px 1px 2px rgba(60, 64, 67, 0.3), 0px 1px 3px 1px rgba(60, 64, 67, 0.15);\n      fill: #174EA6;\n    }\n\n    .colab-df-buttons div {\n      margin-bottom: 4px;\n    }\n\n    [theme=dark] .colab-df-convert {\n      background-color: #3B4455;\n      fill: #D2E3FC;\n    }\n\n    [theme=dark] .colab-df-convert:hover {\n      background-color: #434B5C;\n      box-shadow: 0px 1px 3px 1px rgba(0, 0, 0, 0.15);\n      filter: drop-shadow(0px 1px 2px rgba(0, 0, 0, 0.3));\n      fill: #FFFFFF;\n    }\n  </style>\n\n    <script>\n      const buttonEl =\n        document.querySelector('#df-caa151a5-e638-4dcd-860c-21ab6a7a2fd8 button.colab-df-convert');\n      buttonEl.style.display =\n        google.colab.kernel.accessAllowed ? 'block' : 'none';\n\n      async function convertToInteractive(key) {\n        const element = document.querySelector('#df-caa151a5-e638-4dcd-860c-21ab6a7a2fd8');\n        const dataTable =\n          await google.colab.kernel.invokeFunction('convertToInteractive',\n                                                    [key], {});\n        if (!dataTable) return;\n\n        const docLinkHtml = 'Like what you see? Visit the ' +\n          '<a target=\"_blank\" href=https://colab.research.google.com/notebooks/data_table.ipynb>data table notebook</a>'\n          + ' to learn more about interactive tables.';\n        element.innerHTML = '';\n        dataTable['output_type'] = 'display_data';\n        await google.colab.output.renderOutput(dataTable, element);\n        const docLink = document.createElement('div');\n        docLink.innerHTML = docLinkHtml;\n        element.appendChild(docLink);\n      }\n    </script>\n  </div>\n\n\n<div id=\"df-6b2d247d-c3cf-4c86-9955-7ee3be152632\">\n  <button class=\"colab-df-quickchart\" onclick=\"quickchart('df-6b2d247d-c3cf-4c86-9955-7ee3be152632')\"\n            title=\"Suggest charts\"\n            style=\"display:none;\">\n\n<svg xmlns=\"http://www.w3.org/2000/svg\" height=\"24px\"viewBox=\"0 0 24 24\"\n     width=\"24px\">\n    <g>\n        <path d=\"M19 3H5c-1.1 0-2 .9-2 2v14c0 1.1.9 2 2 2h14c1.1 0 2-.9 2-2V5c0-1.1-.9-2-2-2zM9 17H7v-7h2v7zm4 0h-2V7h2v10zm4 0h-2v-4h2v4z\"/>\n    </g>\n</svg>\n  </button>\n\n<style>\n  .colab-df-quickchart {\n      --bg-color: #E8F0FE;\n      --fill-color: #1967D2;\n      --hover-bg-color: #E2EBFA;\n      --hover-fill-color: #174EA6;\n      --disabled-fill-color: #AAA;\n      --disabled-bg-color: #DDD;\n  }\n\n  [theme=dark] .colab-df-quickchart {\n      --bg-color: #3B4455;\n      --fill-color: #D2E3FC;\n      --hover-bg-color: #434B5C;\n      --hover-fill-color: #FFFFFF;\n      --disabled-bg-color: #3B4455;\n      --disabled-fill-color: #666;\n  }\n\n  .colab-df-quickchart {\n    background-color: var(--bg-color);\n    border: none;\n    border-radius: 50%;\n    cursor: pointer;\n    display: none;\n    fill: var(--fill-color);\n    height: 32px;\n    padding: 0;\n    width: 32px;\n  }\n\n  .colab-df-quickchart:hover {\n    background-color: var(--hover-bg-color);\n    box-shadow: 0 1px 2px rgba(60, 64, 67, 0.3), 0 1px 3px 1px rgba(60, 64, 67, 0.15);\n    fill: var(--button-hover-fill-color);\n  }\n\n  .colab-df-quickchart-complete:disabled,\n  .colab-df-quickchart-complete:disabled:hover {\n    background-color: var(--disabled-bg-color);\n    fill: var(--disabled-fill-color);\n    box-shadow: none;\n  }\n\n  .colab-df-spinner {\n    border: 2px solid var(--fill-color);\n    border-color: transparent;\n    border-bottom-color: var(--fill-color);\n    animation:\n      spin 1s steps(1) infinite;\n  }\n\n  @keyframes spin {\n    0% {\n      border-color: transparent;\n      border-bottom-color: var(--fill-color);\n      border-left-color: var(--fill-color);\n    }\n    20% {\n      border-color: transparent;\n      border-left-color: var(--fill-color);\n      border-top-color: var(--fill-color);\n    }\n    30% {\n      border-color: transparent;\n      border-left-color: var(--fill-color);\n      border-top-color: var(--fill-color);\n      border-right-color: var(--fill-color);\n    }\n    40% {\n      border-color: transparent;\n      border-right-color: var(--fill-color);\n      border-top-color: var(--fill-color);\n    }\n    60% {\n      border-color: transparent;\n      border-right-color: var(--fill-color);\n    }\n    80% {\n      border-color: transparent;\n      border-right-color: var(--fill-color);\n      border-bottom-color: var(--fill-color);\n    }\n    90% {\n      border-color: transparent;\n      border-bottom-color: var(--fill-color);\n    }\n  }\n</style>\n\n  <script>\n    async function quickchart(key) {\n      const quickchartButtonEl =\n        document.querySelector('#' + key + ' button');\n      quickchartButtonEl.disabled = true;  // To prevent multiple clicks.\n      quickchartButtonEl.classList.add('colab-df-spinner');\n      try {\n        const charts = await google.colab.kernel.invokeFunction(\n            'suggestCharts', [key], {});\n      } catch (error) {\n        console.error('Error during call to suggestCharts:', error);\n      }\n      quickchartButtonEl.classList.remove('colab-df-spinner');\n      quickchartButtonEl.classList.add('colab-df-quickchart-complete');\n    }\n    (() => {\n      let quickchartButtonEl =\n        document.querySelector('#df-6b2d247d-c3cf-4c86-9955-7ee3be152632 button');\n      quickchartButtonEl.style.display =\n        google.colab.kernel.accessAllowed ? 'block' : 'none';\n    })();\n  </script>\n</div>\n\n    </div>\n  </div>\n"
                },
                "metadata": {}
              }
            ]
          }
        },
        "5288ca6f7c49428790767bc47976b7fd": {
          "model_module": "@jupyter-widgets/base",
          "model_name": "LayoutModel",
          "model_module_version": "1.2.0",
          "state": {
            "_model_module": "@jupyter-widgets/base",
            "_model_module_version": "1.2.0",
            "_model_name": "LayoutModel",
            "_view_count": null,
            "_view_module": "@jupyter-widgets/base",
            "_view_module_version": "1.2.0",
            "_view_name": "LayoutView",
            "align_content": null,
            "align_items": null,
            "align_self": null,
            "border": null,
            "bottom": null,
            "display": null,
            "flex": null,
            "flex_flow": null,
            "grid_area": null,
            "grid_auto_columns": null,
            "grid_auto_flow": null,
            "grid_auto_rows": null,
            "grid_column": null,
            "grid_gap": null,
            "grid_row": null,
            "grid_template_areas": null,
            "grid_template_columns": null,
            "grid_template_rows": null,
            "height": null,
            "justify_content": null,
            "justify_items": null,
            "left": null,
            "margin": null,
            "max_height": null,
            "max_width": null,
            "min_height": null,
            "min_width": null,
            "object_fit": null,
            "object_position": null,
            "order": null,
            "overflow": null,
            "overflow_x": null,
            "overflow_y": null,
            "padding": null,
            "right": null,
            "top": null,
            "visibility": null,
            "width": null
          }
        },
        "d3618ac3f8ab4771865b158778df4f33": {
          "model_module": "@jupyter-widgets/base",
          "model_name": "LayoutModel",
          "model_module_version": "1.2.0",
          "state": {
            "_model_module": "@jupyter-widgets/base",
            "_model_module_version": "1.2.0",
            "_model_name": "LayoutModel",
            "_view_count": null,
            "_view_module": "@jupyter-widgets/base",
            "_view_module_version": "1.2.0",
            "_view_name": "LayoutView",
            "align_content": null,
            "align_items": null,
            "align_self": null,
            "border": null,
            "bottom": null,
            "display": null,
            "flex": null,
            "flex_flow": null,
            "grid_area": null,
            "grid_auto_columns": null,
            "grid_auto_flow": null,
            "grid_auto_rows": null,
            "grid_column": null,
            "grid_gap": null,
            "grid_row": null,
            "grid_template_areas": null,
            "grid_template_columns": null,
            "grid_template_rows": null,
            "height": null,
            "justify_content": null,
            "justify_items": null,
            "left": null,
            "margin": null,
            "max_height": null,
            "max_width": null,
            "min_height": null,
            "min_width": null,
            "object_fit": null,
            "object_position": null,
            "order": null,
            "overflow": null,
            "overflow_x": null,
            "overflow_y": null,
            "padding": null,
            "right": null,
            "top": null,
            "visibility": null,
            "width": null
          }
        },
        "212ee690a17f4d70bd203e1667deb30a": {
          "model_module": "@jupyter-widgets/controls",
          "model_name": "DescriptionStyleModel",
          "model_module_version": "1.5.0",
          "state": {
            "_model_module": "@jupyter-widgets/controls",
            "_model_module_version": "1.5.0",
            "_model_name": "DescriptionStyleModel",
            "_view_count": null,
            "_view_module": "@jupyter-widgets/base",
            "_view_module_version": "1.2.0",
            "_view_name": "StyleView",
            "description_width": ""
          }
        },
        "1e48f4550fb54ee8913aaa8b8f4fd6e4": {
          "model_module": "@jupyter-widgets/base",
          "model_name": "LayoutModel",
          "model_module_version": "1.2.0",
          "state": {
            "_model_module": "@jupyter-widgets/base",
            "_model_module_version": "1.2.0",
            "_model_name": "LayoutModel",
            "_view_count": null,
            "_view_module": "@jupyter-widgets/base",
            "_view_module_version": "1.2.0",
            "_view_name": "LayoutView",
            "align_content": null,
            "align_items": null,
            "align_self": null,
            "border": null,
            "bottom": null,
            "display": null,
            "flex": null,
            "flex_flow": null,
            "grid_area": null,
            "grid_auto_columns": null,
            "grid_auto_flow": null,
            "grid_auto_rows": null,
            "grid_column": null,
            "grid_gap": null,
            "grid_row": null,
            "grid_template_areas": null,
            "grid_template_columns": null,
            "grid_template_rows": null,
            "height": null,
            "justify_content": null,
            "justify_items": null,
            "left": null,
            "margin": null,
            "max_height": null,
            "max_width": null,
            "min_height": null,
            "min_width": null,
            "object_fit": null,
            "object_position": null,
            "order": null,
            "overflow": null,
            "overflow_x": null,
            "overflow_y": null,
            "padding": null,
            "right": null,
            "top": null,
            "visibility": null,
            "width": null
          }
        },
        "94931b325b6444c1a523de0720a75b88": {
          "model_module": "@jupyter-widgets/controls",
          "model_name": "DescriptionStyleModel",
          "model_module_version": "1.5.0",
          "state": {
            "_model_module": "@jupyter-widgets/controls",
            "_model_module_version": "1.5.0",
            "_model_name": "DescriptionStyleModel",
            "_view_count": null,
            "_view_module": "@jupyter-widgets/base",
            "_view_module_version": "1.2.0",
            "_view_name": "StyleView",
            "description_width": ""
          }
        },
        "86ee1e683c474c3c8c1065fa2455045e": {
          "model_module": "@jupyter-widgets/base",
          "model_name": "LayoutModel",
          "model_module_version": "1.2.0",
          "state": {
            "_model_module": "@jupyter-widgets/base",
            "_model_module_version": "1.2.0",
            "_model_name": "LayoutModel",
            "_view_count": null,
            "_view_module": "@jupyter-widgets/base",
            "_view_module_version": "1.2.0",
            "_view_name": "LayoutView",
            "align_content": null,
            "align_items": null,
            "align_self": null,
            "border": null,
            "bottom": null,
            "display": null,
            "flex": null,
            "flex_flow": null,
            "grid_area": null,
            "grid_auto_columns": null,
            "grid_auto_flow": null,
            "grid_auto_rows": null,
            "grid_column": null,
            "grid_gap": null,
            "grid_row": null,
            "grid_template_areas": null,
            "grid_template_columns": null,
            "grid_template_rows": null,
            "height": null,
            "justify_content": null,
            "justify_items": null,
            "left": null,
            "margin": null,
            "max_height": null,
            "max_width": null,
            "min_height": null,
            "min_width": null,
            "object_fit": null,
            "object_position": null,
            "order": null,
            "overflow": null,
            "overflow_x": null,
            "overflow_y": null,
            "padding": null,
            "right": null,
            "top": null,
            "visibility": null,
            "width": null
          }
        }
      }
    }
  },
  "cells": [
    {
      "cell_type": "code",
      "execution_count": null,
      "metadata": {
        "id": "6SMkeZp-wH_R",
        "colab": {
          "base_uri": "https://localhost:8080/"
        },
        "outputId": "b20de25d-d0ce-4dd7-ffbd-c603e6c69b17"
      },
      "outputs": [
        {
          "output_type": "stream",
          "name": "stdout",
          "text": [
            "The file /content/11_xyz_weather.xlsx exists.\n"
          ]
        }
      ],
      "source": [
        "import pandas as pd\n",
        "\n",
        "#file_path = '/content/xyz_weather.csv'\n",
        "#x = pd.read_csv(file_path, header=0)\n",
        "#Read excel data\n",
        "\n",
        "import os\n",
        "\n",
        "file_path = '/content/11_xyz_weather.xlsx'\n",
        "if os.path.exists(file_path):\n",
        "    print(f\"The file {file_path} exists.\")\n",
        "else:\n",
        "    print(f\"The file {file_path} does not exist.\")\n",
        "\n",
        "import openpyxl\n",
        "# or\n",
        "import xlrd\n",
        "\n",
        "dataframe1 = pd.read_excel('/content/11_xyz_weather.xlsx', engine='openpyxl')\n",
        "#or\n",
        "#dataframe1 = pd.read_excel('/content/11_xyz_weather.xlsx', engine='xlrd')\n",
        "\n"
      ]
    },
    {
      "cell_type": "code",
      "source": [
        "!pip install openpyxl\n",
        "# or\n",
        "#!pip install xlrd\n"
      ],
      "metadata": {
        "id": "J354Mu-fwo15"
      },
      "execution_count": null,
      "outputs": []
    },
    {
      "cell_type": "code",
      "source": [
        "dataframe1.head()"
      ],
      "metadata": {
        "colab": {
          "base_uri": "https://localhost:8080/",
          "height": 360
        },
        "id": "Y3hRVlzvx-BH",
        "outputId": "977fe1a0-63d4-4664-8e56-2c5b5f8620f1"
      },
      "execution_count": null,
      "outputs": [
        {
          "output_type": "execute_result",
          "data": {
            "text/plain": [
              "   index   borough  contributing_factor_vehicle_1  \\\n",
              "0      0  BROOKLYN    Traffic Control Disregarded   \n",
              "1      1  BROOKLYN                    Unspecified   \n",
              "2      2  BROOKLYN          Following Too Closely   \n",
              "3      3  BROOKLYN  Failure to Yield Right-of-Way   \n",
              "4      4  BROOKLYN           Unsafe Lane Changing   \n",
              "\n",
              "  contributing_factor_vehicle_2 contributing_factor_vehicle_3  \\\n",
              "0                   Unspecified                          None   \n",
              "1                   Unspecified                          None   \n",
              "2                   Unspecified                          None   \n",
              "3                   Unspecified                          None   \n",
              "4                   Unspecified                          None   \n",
              "\n",
              "  contributing_factor_vehicle_4 contributing_factor_vehicle_5  \\\n",
              "0                          None                          None   \n",
              "1                          None                          None   \n",
              "2                          None                          None   \n",
              "3                          None                          None   \n",
              "4                          None                          None   \n",
              "\n",
              "  cross_street_name           timestamp   latitude  ...  vehicle_type_code_3  \\\n",
              "0       HOYT STREET 2018-10-30 14:30:00  40.683956  ...                 None   \n",
              "1       KANE STREET 2018-02-28 17:00:00  40.685450  ...                 None   \n",
              "2             OTHER 2022-05-24 08:34:00  40.685802  ...                 None   \n",
              "3    WYCKOFF STREET 2020-11-10 08:35:00  40.686080  ...                 None   \n",
              "4             OTHER 2018-07-18 21:10:00  40.686283  ...                 None   \n",
              "\n",
              "  vehicle_type_code_4  vehicle_type_code_5  zip_code  year  month  \\\n",
              "0                None                 None     11201  2018     10   \n",
              "1                None                 None     11201  2018      2   \n",
              "2                None                 None     11201  2022      5   \n",
              "3                None                 None     11201  2020     11   \n",
              "4                None                 None     11201  2018      7   \n",
              "\n",
              "   day_of_week  hour       date            weather  \n",
              "0      Tuesday    14 2018-10-30               rain  \n",
              "1    Wednesday    17 2018-02-28               rain  \n",
              "2      Tuesday     8 2022-05-24               rain  \n",
              "3      Tuesday     8 2020-11-10          clear-day  \n",
              "4    Wednesday    21 2018-07-18  partly-cloudy-day  \n",
              "\n",
              "[5 rows x 35 columns]"
            ],
            "text/html": [
              "\n",
              "  <div id=\"df-5a2d8f9a-c5c0-4ea7-8586-f017700ce20f\" class=\"colab-df-container\">\n",
              "    <div>\n",
              "<style scoped>\n",
              "    .dataframe tbody tr th:only-of-type {\n",
              "        vertical-align: middle;\n",
              "    }\n",
              "\n",
              "    .dataframe tbody tr th {\n",
              "        vertical-align: top;\n",
              "    }\n",
              "\n",
              "    .dataframe thead th {\n",
              "        text-align: right;\n",
              "    }\n",
              "</style>\n",
              "<table border=\"1\" class=\"dataframe\">\n",
              "  <thead>\n",
              "    <tr style=\"text-align: right;\">\n",
              "      <th></th>\n",
              "      <th>index</th>\n",
              "      <th>borough</th>\n",
              "      <th>contributing_factor_vehicle_1</th>\n",
              "      <th>contributing_factor_vehicle_2</th>\n",
              "      <th>contributing_factor_vehicle_3</th>\n",
              "      <th>contributing_factor_vehicle_4</th>\n",
              "      <th>contributing_factor_vehicle_5</th>\n",
              "      <th>cross_street_name</th>\n",
              "      <th>timestamp</th>\n",
              "      <th>latitude</th>\n",
              "      <th>...</th>\n",
              "      <th>vehicle_type_code_3</th>\n",
              "      <th>vehicle_type_code_4</th>\n",
              "      <th>vehicle_type_code_5</th>\n",
              "      <th>zip_code</th>\n",
              "      <th>year</th>\n",
              "      <th>month</th>\n",
              "      <th>day_of_week</th>\n",
              "      <th>hour</th>\n",
              "      <th>date</th>\n",
              "      <th>weather</th>\n",
              "    </tr>\n",
              "  </thead>\n",
              "  <tbody>\n",
              "    <tr>\n",
              "      <th>0</th>\n",
              "      <td>0</td>\n",
              "      <td>BROOKLYN</td>\n",
              "      <td>Traffic Control Disregarded</td>\n",
              "      <td>Unspecified</td>\n",
              "      <td>None</td>\n",
              "      <td>None</td>\n",
              "      <td>None</td>\n",
              "      <td>HOYT STREET</td>\n",
              "      <td>2018-10-30 14:30:00</td>\n",
              "      <td>40.683956</td>\n",
              "      <td>...</td>\n",
              "      <td>None</td>\n",
              "      <td>None</td>\n",
              "      <td>None</td>\n",
              "      <td>11201</td>\n",
              "      <td>2018</td>\n",
              "      <td>10</td>\n",
              "      <td>Tuesday</td>\n",
              "      <td>14</td>\n",
              "      <td>2018-10-30</td>\n",
              "      <td>rain</td>\n",
              "    </tr>\n",
              "    <tr>\n",
              "      <th>1</th>\n",
              "      <td>1</td>\n",
              "      <td>BROOKLYN</td>\n",
              "      <td>Unspecified</td>\n",
              "      <td>Unspecified</td>\n",
              "      <td>None</td>\n",
              "      <td>None</td>\n",
              "      <td>None</td>\n",
              "      <td>KANE STREET</td>\n",
              "      <td>2018-02-28 17:00:00</td>\n",
              "      <td>40.685450</td>\n",
              "      <td>...</td>\n",
              "      <td>None</td>\n",
              "      <td>None</td>\n",
              "      <td>None</td>\n",
              "      <td>11201</td>\n",
              "      <td>2018</td>\n",
              "      <td>2</td>\n",
              "      <td>Wednesday</td>\n",
              "      <td>17</td>\n",
              "      <td>2018-02-28</td>\n",
              "      <td>rain</td>\n",
              "    </tr>\n",
              "    <tr>\n",
              "      <th>2</th>\n",
              "      <td>2</td>\n",
              "      <td>BROOKLYN</td>\n",
              "      <td>Following Too Closely</td>\n",
              "      <td>Unspecified</td>\n",
              "      <td>None</td>\n",
              "      <td>None</td>\n",
              "      <td>None</td>\n",
              "      <td>OTHER</td>\n",
              "      <td>2022-05-24 08:34:00</td>\n",
              "      <td>40.685802</td>\n",
              "      <td>...</td>\n",
              "      <td>None</td>\n",
              "      <td>None</td>\n",
              "      <td>None</td>\n",
              "      <td>11201</td>\n",
              "      <td>2022</td>\n",
              "      <td>5</td>\n",
              "      <td>Tuesday</td>\n",
              "      <td>8</td>\n",
              "      <td>2022-05-24</td>\n",
              "      <td>rain</td>\n",
              "    </tr>\n",
              "    <tr>\n",
              "      <th>3</th>\n",
              "      <td>3</td>\n",
              "      <td>BROOKLYN</td>\n",
              "      <td>Failure to Yield Right-of-Way</td>\n",
              "      <td>Unspecified</td>\n",
              "      <td>None</td>\n",
              "      <td>None</td>\n",
              "      <td>None</td>\n",
              "      <td>WYCKOFF STREET</td>\n",
              "      <td>2020-11-10 08:35:00</td>\n",
              "      <td>40.686080</td>\n",
              "      <td>...</td>\n",
              "      <td>None</td>\n",
              "      <td>None</td>\n",
              "      <td>None</td>\n",
              "      <td>11201</td>\n",
              "      <td>2020</td>\n",
              "      <td>11</td>\n",
              "      <td>Tuesday</td>\n",
              "      <td>8</td>\n",
              "      <td>2020-11-10</td>\n",
              "      <td>clear-day</td>\n",
              "    </tr>\n",
              "    <tr>\n",
              "      <th>4</th>\n",
              "      <td>4</td>\n",
              "      <td>BROOKLYN</td>\n",
              "      <td>Unsafe Lane Changing</td>\n",
              "      <td>Unspecified</td>\n",
              "      <td>None</td>\n",
              "      <td>None</td>\n",
              "      <td>None</td>\n",
              "      <td>OTHER</td>\n",
              "      <td>2018-07-18 21:10:00</td>\n",
              "      <td>40.686283</td>\n",
              "      <td>...</td>\n",
              "      <td>None</td>\n",
              "      <td>None</td>\n",
              "      <td>None</td>\n",
              "      <td>11201</td>\n",
              "      <td>2018</td>\n",
              "      <td>7</td>\n",
              "      <td>Wednesday</td>\n",
              "      <td>21</td>\n",
              "      <td>2018-07-18</td>\n",
              "      <td>partly-cloudy-day</td>\n",
              "    </tr>\n",
              "  </tbody>\n",
              "</table>\n",
              "<p>5 rows × 35 columns</p>\n",
              "</div>\n",
              "    <div class=\"colab-df-buttons\">\n",
              "\n",
              "  <div class=\"colab-df-container\">\n",
              "    <button class=\"colab-df-convert\" onclick=\"convertToInteractive('df-5a2d8f9a-c5c0-4ea7-8586-f017700ce20f')\"\n",
              "            title=\"Convert this dataframe to an interactive table.\"\n",
              "            style=\"display:none;\">\n",
              "\n",
              "  <svg xmlns=\"http://www.w3.org/2000/svg\" height=\"24px\" viewBox=\"0 -960 960 960\">\n",
              "    <path d=\"M120-120v-720h720v720H120Zm60-500h600v-160H180v160Zm220 220h160v-160H400v160Zm0 220h160v-160H400v160ZM180-400h160v-160H180v160Zm440 0h160v-160H620v160ZM180-180h160v-160H180v160Zm440 0h160v-160H620v160Z\"/>\n",
              "  </svg>\n",
              "    </button>\n",
              "\n",
              "  <style>\n",
              "    .colab-df-container {\n",
              "      display:flex;\n",
              "      gap: 12px;\n",
              "    }\n",
              "\n",
              "    .colab-df-convert {\n",
              "      background-color: #E8F0FE;\n",
              "      border: none;\n",
              "      border-radius: 50%;\n",
              "      cursor: pointer;\n",
              "      display: none;\n",
              "      fill: #1967D2;\n",
              "      height: 32px;\n",
              "      padding: 0 0 0 0;\n",
              "      width: 32px;\n",
              "    }\n",
              "\n",
              "    .colab-df-convert:hover {\n",
              "      background-color: #E2EBFA;\n",
              "      box-shadow: 0px 1px 2px rgba(60, 64, 67, 0.3), 0px 1px 3px 1px rgba(60, 64, 67, 0.15);\n",
              "      fill: #174EA6;\n",
              "    }\n",
              "\n",
              "    .colab-df-buttons div {\n",
              "      margin-bottom: 4px;\n",
              "    }\n",
              "\n",
              "    [theme=dark] .colab-df-convert {\n",
              "      background-color: #3B4455;\n",
              "      fill: #D2E3FC;\n",
              "    }\n",
              "\n",
              "    [theme=dark] .colab-df-convert:hover {\n",
              "      background-color: #434B5C;\n",
              "      box-shadow: 0px 1px 3px 1px rgba(0, 0, 0, 0.15);\n",
              "      filter: drop-shadow(0px 1px 2px rgba(0, 0, 0, 0.3));\n",
              "      fill: #FFFFFF;\n",
              "    }\n",
              "  </style>\n",
              "\n",
              "    <script>\n",
              "      const buttonEl =\n",
              "        document.querySelector('#df-5a2d8f9a-c5c0-4ea7-8586-f017700ce20f button.colab-df-convert');\n",
              "      buttonEl.style.display =\n",
              "        google.colab.kernel.accessAllowed ? 'block' : 'none';\n",
              "\n",
              "      async function convertToInteractive(key) {\n",
              "        const element = document.querySelector('#df-5a2d8f9a-c5c0-4ea7-8586-f017700ce20f');\n",
              "        const dataTable =\n",
              "          await google.colab.kernel.invokeFunction('convertToInteractive',\n",
              "                                                    [key], {});\n",
              "        if (!dataTable) return;\n",
              "\n",
              "        const docLinkHtml = 'Like what you see? Visit the ' +\n",
              "          '<a target=\"_blank\" href=https://colab.research.google.com/notebooks/data_table.ipynb>data table notebook</a>'\n",
              "          + ' to learn more about interactive tables.';\n",
              "        element.innerHTML = '';\n",
              "        dataTable['output_type'] = 'display_data';\n",
              "        await google.colab.output.renderOutput(dataTable, element);\n",
              "        const docLink = document.createElement('div');\n",
              "        docLink.innerHTML = docLinkHtml;\n",
              "        element.appendChild(docLink);\n",
              "      }\n",
              "    </script>\n",
              "  </div>\n",
              "\n",
              "\n",
              "<div id=\"df-5a2b0b79-7794-4a9d-b9ee-1f78ab3b6bc0\">\n",
              "  <button class=\"colab-df-quickchart\" onclick=\"quickchart('df-5a2b0b79-7794-4a9d-b9ee-1f78ab3b6bc0')\"\n",
              "            title=\"Suggest charts\"\n",
              "            style=\"display:none;\">\n",
              "\n",
              "<svg xmlns=\"http://www.w3.org/2000/svg\" height=\"24px\"viewBox=\"0 0 24 24\"\n",
              "     width=\"24px\">\n",
              "    <g>\n",
              "        <path d=\"M19 3H5c-1.1 0-2 .9-2 2v14c0 1.1.9 2 2 2h14c1.1 0 2-.9 2-2V5c0-1.1-.9-2-2-2zM9 17H7v-7h2v7zm4 0h-2V7h2v10zm4 0h-2v-4h2v4z\"/>\n",
              "    </g>\n",
              "</svg>\n",
              "  </button>\n",
              "\n",
              "<style>\n",
              "  .colab-df-quickchart {\n",
              "      --bg-color: #E8F0FE;\n",
              "      --fill-color: #1967D2;\n",
              "      --hover-bg-color: #E2EBFA;\n",
              "      --hover-fill-color: #174EA6;\n",
              "      --disabled-fill-color: #AAA;\n",
              "      --disabled-bg-color: #DDD;\n",
              "  }\n",
              "\n",
              "  [theme=dark] .colab-df-quickchart {\n",
              "      --bg-color: #3B4455;\n",
              "      --fill-color: #D2E3FC;\n",
              "      --hover-bg-color: #434B5C;\n",
              "      --hover-fill-color: #FFFFFF;\n",
              "      --disabled-bg-color: #3B4455;\n",
              "      --disabled-fill-color: #666;\n",
              "  }\n",
              "\n",
              "  .colab-df-quickchart {\n",
              "    background-color: var(--bg-color);\n",
              "    border: none;\n",
              "    border-radius: 50%;\n",
              "    cursor: pointer;\n",
              "    display: none;\n",
              "    fill: var(--fill-color);\n",
              "    height: 32px;\n",
              "    padding: 0;\n",
              "    width: 32px;\n",
              "  }\n",
              "\n",
              "  .colab-df-quickchart:hover {\n",
              "    background-color: var(--hover-bg-color);\n",
              "    box-shadow: 0 1px 2px rgba(60, 64, 67, 0.3), 0 1px 3px 1px rgba(60, 64, 67, 0.15);\n",
              "    fill: var(--button-hover-fill-color);\n",
              "  }\n",
              "\n",
              "  .colab-df-quickchart-complete:disabled,\n",
              "  .colab-df-quickchart-complete:disabled:hover {\n",
              "    background-color: var(--disabled-bg-color);\n",
              "    fill: var(--disabled-fill-color);\n",
              "    box-shadow: none;\n",
              "  }\n",
              "\n",
              "  .colab-df-spinner {\n",
              "    border: 2px solid var(--fill-color);\n",
              "    border-color: transparent;\n",
              "    border-bottom-color: var(--fill-color);\n",
              "    animation:\n",
              "      spin 1s steps(1) infinite;\n",
              "  }\n",
              "\n",
              "  @keyframes spin {\n",
              "    0% {\n",
              "      border-color: transparent;\n",
              "      border-bottom-color: var(--fill-color);\n",
              "      border-left-color: var(--fill-color);\n",
              "    }\n",
              "    20% {\n",
              "      border-color: transparent;\n",
              "      border-left-color: var(--fill-color);\n",
              "      border-top-color: var(--fill-color);\n",
              "    }\n",
              "    30% {\n",
              "      border-color: transparent;\n",
              "      border-left-color: var(--fill-color);\n",
              "      border-top-color: var(--fill-color);\n",
              "      border-right-color: var(--fill-color);\n",
              "    }\n",
              "    40% {\n",
              "      border-color: transparent;\n",
              "      border-right-color: var(--fill-color);\n",
              "      border-top-color: var(--fill-color);\n",
              "    }\n",
              "    60% {\n",
              "      border-color: transparent;\n",
              "      border-right-color: var(--fill-color);\n",
              "    }\n",
              "    80% {\n",
              "      border-color: transparent;\n",
              "      border-right-color: var(--fill-color);\n",
              "      border-bottom-color: var(--fill-color);\n",
              "    }\n",
              "    90% {\n",
              "      border-color: transparent;\n",
              "      border-bottom-color: var(--fill-color);\n",
              "    }\n",
              "  }\n",
              "</style>\n",
              "\n",
              "  <script>\n",
              "    async function quickchart(key) {\n",
              "      const quickchartButtonEl =\n",
              "        document.querySelector('#' + key + ' button');\n",
              "      quickchartButtonEl.disabled = true;  // To prevent multiple clicks.\n",
              "      quickchartButtonEl.classList.add('colab-df-spinner');\n",
              "      try {\n",
              "        const charts = await google.colab.kernel.invokeFunction(\n",
              "            'suggestCharts', [key], {});\n",
              "      } catch (error) {\n",
              "        console.error('Error during call to suggestCharts:', error);\n",
              "      }\n",
              "      quickchartButtonEl.classList.remove('colab-df-spinner');\n",
              "      quickchartButtonEl.classList.add('colab-df-quickchart-complete');\n",
              "    }\n",
              "    (() => {\n",
              "      let quickchartButtonEl =\n",
              "        document.querySelector('#df-5a2b0b79-7794-4a9d-b9ee-1f78ab3b6bc0 button');\n",
              "      quickchartButtonEl.style.display =\n",
              "        google.colab.kernel.accessAllowed ? 'block' : 'none';\n",
              "    })();\n",
              "  </script>\n",
              "</div>\n",
              "\n",
              "    </div>\n",
              "  </div>\n"
            ]
          },
          "metadata": {},
          "execution_count": 103
        }
      ]
    },
    {
      "cell_type": "code",
      "source": [
        "dataframe1.info()"
      ],
      "metadata": {
        "colab": {
          "base_uri": "https://localhost:8080/"
        },
        "id": "1D9iSmK4CyH-",
        "outputId": "050c78d4-2f5b-43ad-9fe9-cec6ee58902e"
      },
      "execution_count": null,
      "outputs": [
        {
          "output_type": "stream",
          "name": "stdout",
          "text": [
            "<class 'pandas.core.frame.DataFrame'>\n",
            "RangeIndex: 160512 entries, 0 to 160511\n",
            "Data columns (total 35 columns):\n",
            " #   Column                         Non-Null Count   Dtype         \n",
            "---  ------                         --------------   -----         \n",
            " 0   index                          160512 non-null  int64         \n",
            " 1   borough                        160512 non-null  object        \n",
            " 2   contributing_factor_vehicle_1  160512 non-null  object        \n",
            " 3   contributing_factor_vehicle_2  160512 non-null  object        \n",
            " 4   contributing_factor_vehicle_3  160512 non-null  object        \n",
            " 5   contributing_factor_vehicle_4  160512 non-null  object        \n",
            " 6   contributing_factor_vehicle_5  160512 non-null  object        \n",
            " 7   cross_street_name              160512 non-null  object        \n",
            " 8   timestamp                      160512 non-null  datetime64[ns]\n",
            " 9   latitude                       160512 non-null  float64       \n",
            " 10  longitude                      160512 non-null  float64       \n",
            " 11  location                       160512 non-null  object        \n",
            " 12  number_of_cyclist_injured      160512 non-null  int64         \n",
            " 13  number_of_cyclist_killed       160512 non-null  int64         \n",
            " 14  number_of_motorist_injured     160512 non-null  int64         \n",
            " 15  number_of_motorist_killed      160512 non-null  int64         \n",
            " 16  number_of_pedestrians_injured  160512 non-null  int64         \n",
            " 17  number_of_pedestrians_killed   160512 non-null  int64         \n",
            " 18  number_of_persons_injured      160512 non-null  int64         \n",
            " 19  number_of_persons_killed       160512 non-null  int64         \n",
            " 20  off_street_name                160512 non-null  object        \n",
            " 21  on_street_name                 160512 non-null  object        \n",
            " 22  unique_key                     160512 non-null  int64         \n",
            " 23  vehicle_type_code1             160512 non-null  object        \n",
            " 24  vehicle_type_code2             160512 non-null  object        \n",
            " 25  vehicle_type_code_3            160512 non-null  object        \n",
            " 26  vehicle_type_code_4            160512 non-null  object        \n",
            " 27  vehicle_type_code_5            160512 non-null  object        \n",
            " 28  zip_code                       160512 non-null  int64         \n",
            " 29  year                           160512 non-null  int64         \n",
            " 30  month                          160512 non-null  int64         \n",
            " 31  day_of_week                    160512 non-null  object        \n",
            " 32  hour                           160512 non-null  int64         \n",
            " 33  date                           160512 non-null  datetime64[ns]\n",
            " 34  weather                        160512 non-null  object        \n",
            "dtypes: datetime64[ns](2), float64(2), int64(14), object(17)\n",
            "memory usage: 42.9+ MB\n"
          ]
        }
      ]
    },
    {
      "cell_type": "code",
      "source": [
        "\n",
        "import pandas as pd\n",
        "import matplotlib.pyplot as plt\n",
        "from ipywidgets import interact, widgets\n",
        "\n",
        "\n",
        "#Summary Table on selection\n",
        "def display_summary(selected_year, selected_month):\n",
        "    # Filter the DataFrame based on the selected year and month\n",
        "    filtered_df = dataframe1[(dataframe1['year'] == selected_year) & (dataframe1['month'] == selected_month)]\n",
        "\n",
        "    # Group by contributing factor and sum the number of people killed and injured\n",
        "    grouped_df = filtered_df.groupby('contributing_factor_vehicle_1').agg({\n",
        "        'number_of_cyclist_injured': 'sum',\n",
        "        'number_of_cyclist_killed': 'sum',\n",
        "        'number_of_motorist_injured': 'sum',\n",
        "        'number_of_motorist_killed': 'sum',\n",
        "        'number_of_pedestrians_injured': 'sum',\n",
        "        'number_of_pedestrians_killed': 'sum',\n",
        "        'number_of_persons_injured': 'sum',\n",
        "        'number_of_persons_killed': 'sum'\n",
        "    }).reset_index()\n",
        "\n",
        "    # Display the table\n",
        "    display(grouped_df)\n",
        "\n",
        "# dropdowns for year and month\n",
        "year_dropdown = widgets.Dropdown(options=dataframe1['year'].unique(), description='Year:')\n",
        "month_dropdown = widgets.Dropdown(options=dataframe1['month'].unique(), description='Month:')\n",
        "\n",
        "interact(display_summary, selected_year=year_dropdown, selected_month=month_dropdown);\n"
      ],
      "metadata": {
        "colab": {
          "base_uri": "https://localhost:8080/",
          "height": 1000,
          "referenced_widgets": [
            "1b695b4b51f14ad8b45045a8af7f9eea",
            "f27972205cf94940adf9424651bfc920",
            "f90a2da089c9472b839dcd62fe2849f2",
            "24dfadc3baf44126955e9e090703bdf1",
            "5288ca6f7c49428790767bc47976b7fd",
            "d3618ac3f8ab4771865b158778df4f33",
            "212ee690a17f4d70bd203e1667deb30a",
            "1e48f4550fb54ee8913aaa8b8f4fd6e4",
            "94931b325b6444c1a523de0720a75b88",
            "86ee1e683c474c3c8c1065fa2455045e"
          ]
        },
        "id": "ZcVSoIhiHus6",
        "outputId": "8a6dbda6-de24-4a43-edaa-d61d1b1d133b"
      },
      "execution_count": null,
      "outputs": [
        {
          "output_type": "display_data",
          "data": {
            "text/plain": [
              "interactive(children=(Dropdown(description='Year:', options=(2018, 2022, 2020, 2021, 2019), value=2018), Dropd…"
            ],
            "application/vnd.jupyter.widget-view+json": {
              "version_major": 2,
              "version_minor": 0,
              "model_id": "1b695b4b51f14ad8b45045a8af7f9eea"
            }
          },
          "metadata": {}
        }
      ]
    },
    {
      "cell_type": "code",
      "source": [
        "\n",
        "# Calculate total persons killed and injured\n",
        "total_persons_killed = dataframe1['number_of_persons_killed'].sum()\n",
        "total_persons_injured = dataframe1['number_of_persons_injured'].sum()\n",
        "\n",
        "print(\"Total Persons Killed:\", total_persons_killed)\n",
        "print(\"Total Persons Injured:\", total_persons_injured)\n"
      ],
      "metadata": {
        "colab": {
          "base_uri": "https://localhost:8080/"
        },
        "id": "R1pEjGH_WD-2",
        "outputId": "c7a2ab10-275f-4c7f-d338-9f18c70655ef"
      },
      "execution_count": null,
      "outputs": [
        {
          "output_type": "stream",
          "name": "stdout",
          "text": [
            "Total Persons Killed: 230\n",
            "Total Persons Injured: 56753\n"
          ]
        }
      ]
    },
    {
      "cell_type": "code",
      "source": [
        "import pandas as pd\n",
        "\n",
        "\n",
        "\n",
        "selected_year = int(input(\"Enter the year to filter on: \"))\n",
        "selected_month = int(input(\"Enter the month (1-12) to filter on: \"))\n",
        "\n",
        "# Filter the DataFrame based on input\n",
        "filtered_data = dataframe1[\n",
        "    (dataframe1['year'] == selected_year) &\n",
        "    (dataframe1['month'] == selected_month)\n",
        "\n",
        "]\n",
        "\n",
        "# Total number of people killed overall for the selected filters\n",
        "total_people_killed = filtered_data['number_of_persons_killed'].sum()\n",
        "\n",
        "# Grouping by different categories and calculating total killed for the selected filters\n",
        "grouped_data = filtered_data.groupby(['weather']).agg({\n",
        "    'number_of_persons_killed': 'sum',\n",
        "    'number_of_cyclist_killed': 'sum',\n",
        "    'number_of_motorist_killed': 'sum'\n",
        "}).reset_index()\n",
        "\n",
        "# Renaming the columns for better readability\n",
        "grouped_data.columns = ['Weather', 'Total Persons Killed', 'Cyclists Killed', 'Motorists Killed']\n",
        "\n",
        "# Adding a total row\n",
        "total_row = ['Total', total_people_killed, grouped_data['Cyclists Killed'].sum(), grouped_data['Motorists Killed'].sum()]\n",
        "grouped_data = grouped_data.append(pd.Series(total_row, index=grouped_data.columns), ignore_index=True)\n",
        "\n",
        "# Displaying the summary table for the selected filters\n",
        "print(f\"Summary Table for {selected_year} - {selected_month} - Total People Killed:\")\n",
        "print(grouped_data)\n"
      ],
      "metadata": {
        "id": "6b1Eb3pimTb4",
        "colab": {
          "base_uri": "https://localhost:8080/"
        },
        "outputId": "caf57b30-f4de-4167-ae6c-7674076d583c"
      },
      "execution_count": null,
      "outputs": [
        {
          "output_type": "stream",
          "name": "stdout",
          "text": [
            "Enter the year to filter on: 2015\n",
            "Enter the month (1-12) to filter on: 5\n",
            "Summary Table for 2015 - 5 - Total People Killed:\n",
            "  Weather  Total Persons Killed  Cyclists Killed  Motorists Killed\n",
            "0   Total                     0                0                 0\n"
          ]
        },
        {
          "output_type": "stream",
          "name": "stderr",
          "text": [
            "<ipython-input-107-0ea17006fd08>:30: FutureWarning: The frame.append method is deprecated and will be removed from pandas in a future version. Use pandas.concat instead.\n",
            "  grouped_data = grouped_data.append(pd.Series(total_row, index=grouped_data.columns), ignore_index=True)\n"
          ]
        }
      ]
    },
    {
      "source": [
        "import pandas as pd\n",
        "\n",
        "\n",
        "# User input for filters\n",
        "selected_year = int(input(\"Enter the year to filter on: \"))\n",
        "selected_month = int(input(\"Enter the month (1-12) to filter on: \"))\n",
        "\n",
        "\n",
        "# Filter the DataFrame\n",
        "filtered_data = dataframe1[\n",
        "    (dataframe1['year'] == selected_year) &\n",
        "    (dataframe1['month'] == selected_month)\n",
        "\n",
        "]\n",
        "\n",
        "# Total number of people injured overall for the selected filters\n",
        "total_people_injured = filtered_data['number_of_persons_injured'].sum()\n",
        "\n",
        "# Grouping by different categories and calculating total injured for the selected filters\n",
        "grouped_injured_data = filtered_data.groupby(['weather']).agg({\n",
        "    'number_of_persons_injured': 'sum',\n",
        "    'number_of_cyclist_injured': 'sum',\n",
        "    'number_of_motorist_injured': 'sum'\n",
        "}).reset_index()\n",
        "\n",
        "# Renaming the columns for better readability\n",
        "grouped_injured_data.columns = ['Weather', 'Total Persons Injured', 'Cyclists Injured', 'Motorists Injured']\n",
        "\n",
        "# Adding a total row\n",
        "total_injured_row = ['Total', total_people_injured, grouped_injured_data['Cyclists Injured'].sum(), grouped_injured_data['Motorists Injured'].sum()]\n",
        "grouped_injured_data = grouped_injured_data.append(pd.Series(total_injured_row, index=grouped_injured_data.columns), ignore_index=True)\n",
        "\n",
        "# Displaying the summary table for the selected filters\n",
        "print(f\"Summary Table for {selected_year} - {selected_month} - Total People Injured:\")\n",
        "print(grouped_injured_data)\n"
      ],
      "cell_type": "code",
      "metadata": {
        "id": "lxuAblQ2VTZr",
        "colab": {
          "base_uri": "https://localhost:8080/",
          "height": 391
        },
        "outputId": "bd4a45ff-e72a-464c-9200-6d549d7a2454"
      },
      "execution_count": null,
      "outputs": [
        {
          "output_type": "error",
          "ename": "KeyboardInterrupt",
          "evalue": "Interrupted by user",
          "traceback": [
            "\u001b[0;31m---------------------------------------------------------------------------\u001b[0m",
            "\u001b[0;31mKeyboardInterrupt\u001b[0m                         Traceback (most recent call last)",
            "\u001b[0;32m<ipython-input-101-518f63698eb9>\u001b[0m in \u001b[0;36m<cell line: 5>\u001b[0;34m()\u001b[0m\n\u001b[1;32m      3\u001b[0m \u001b[0;34m\u001b[0m\u001b[0m\n\u001b[1;32m      4\u001b[0m \u001b[0;31m# User input for filters\u001b[0m\u001b[0;34m\u001b[0m\u001b[0;34m\u001b[0m\u001b[0m\n\u001b[0;32m----> 5\u001b[0;31m \u001b[0mselected_year\u001b[0m \u001b[0;34m=\u001b[0m \u001b[0mint\u001b[0m\u001b[0;34m(\u001b[0m\u001b[0minput\u001b[0m\u001b[0;34m(\u001b[0m\u001b[0;34m\"Enter the year to filter on: \"\u001b[0m\u001b[0;34m)\u001b[0m\u001b[0;34m)\u001b[0m\u001b[0;34m\u001b[0m\u001b[0;34m\u001b[0m\u001b[0m\n\u001b[0m\u001b[1;32m      6\u001b[0m \u001b[0mselected_month\u001b[0m \u001b[0;34m=\u001b[0m \u001b[0mint\u001b[0m\u001b[0;34m(\u001b[0m\u001b[0minput\u001b[0m\u001b[0;34m(\u001b[0m\u001b[0;34m\"Enter the month (1-12) to filter on: \"\u001b[0m\u001b[0;34m)\u001b[0m\u001b[0;34m)\u001b[0m\u001b[0;34m\u001b[0m\u001b[0;34m\u001b[0m\u001b[0m\n\u001b[1;32m      7\u001b[0m \u001b[0;34m\u001b[0m\u001b[0m\n",
            "\u001b[0;32m/usr/local/lib/python3.10/dist-packages/ipykernel/kernelbase.py\u001b[0m in \u001b[0;36mraw_input\u001b[0;34m(self, prompt)\u001b[0m\n\u001b[1;32m    849\u001b[0m                 \u001b[0;34m\"raw_input was called, but this frontend does not support input requests.\"\u001b[0m\u001b[0;34m\u001b[0m\u001b[0;34m\u001b[0m\u001b[0m\n\u001b[1;32m    850\u001b[0m             )\n\u001b[0;32m--> 851\u001b[0;31m         return self._input_request(str(prompt),\n\u001b[0m\u001b[1;32m    852\u001b[0m             \u001b[0mself\u001b[0m\u001b[0;34m.\u001b[0m\u001b[0m_parent_ident\u001b[0m\u001b[0;34m,\u001b[0m\u001b[0;34m\u001b[0m\u001b[0;34m\u001b[0m\u001b[0m\n\u001b[1;32m    853\u001b[0m             \u001b[0mself\u001b[0m\u001b[0;34m.\u001b[0m\u001b[0m_parent_header\u001b[0m\u001b[0;34m,\u001b[0m\u001b[0;34m\u001b[0m\u001b[0;34m\u001b[0m\u001b[0m\n",
            "\u001b[0;32m/usr/local/lib/python3.10/dist-packages/ipykernel/kernelbase.py\u001b[0m in \u001b[0;36m_input_request\u001b[0;34m(self, prompt, ident, parent, password)\u001b[0m\n\u001b[1;32m    893\u001b[0m             \u001b[0;32mexcept\u001b[0m \u001b[0mKeyboardInterrupt\u001b[0m\u001b[0;34m:\u001b[0m\u001b[0;34m\u001b[0m\u001b[0;34m\u001b[0m\u001b[0m\n\u001b[1;32m    894\u001b[0m                 \u001b[0;31m# re-raise KeyboardInterrupt, to truncate traceback\u001b[0m\u001b[0;34m\u001b[0m\u001b[0;34m\u001b[0m\u001b[0m\n\u001b[0;32m--> 895\u001b[0;31m                 \u001b[0;32mraise\u001b[0m \u001b[0mKeyboardInterrupt\u001b[0m\u001b[0;34m(\u001b[0m\u001b[0;34m\"Interrupted by user\"\u001b[0m\u001b[0;34m)\u001b[0m \u001b[0;32mfrom\u001b[0m \u001b[0;32mNone\u001b[0m\u001b[0;34m\u001b[0m\u001b[0;34m\u001b[0m\u001b[0m\n\u001b[0m\u001b[1;32m    896\u001b[0m             \u001b[0;32mexcept\u001b[0m \u001b[0mException\u001b[0m \u001b[0;32mas\u001b[0m \u001b[0me\u001b[0m\u001b[0;34m:\u001b[0m\u001b[0;34m\u001b[0m\u001b[0;34m\u001b[0m\u001b[0m\n\u001b[1;32m    897\u001b[0m                 \u001b[0mself\u001b[0m\u001b[0;34m.\u001b[0m\u001b[0mlog\u001b[0m\u001b[0;34m.\u001b[0m\u001b[0mwarning\u001b[0m\u001b[0;34m(\u001b[0m\u001b[0;34m\"Invalid Message:\"\u001b[0m\u001b[0;34m,\u001b[0m \u001b[0mexc_info\u001b[0m\u001b[0;34m=\u001b[0m\u001b[0;32mTrue\u001b[0m\u001b[0;34m)\u001b[0m\u001b[0;34m\u001b[0m\u001b[0;34m\u001b[0m\u001b[0m\n",
            "\u001b[0;31mKeyboardInterrupt\u001b[0m: Interrupted by user"
          ]
        }
      ]
    },
    {
      "cell_type": "code",
      "source": [
        "import pandas as pd\n",
        "\n",
        "\n",
        "# Grouping by weather and calculating the total number of deaths and injuries\n",
        "weather_fatalities = dataframe1.groupby('weather').agg({\n",
        "    'number_of_persons_killed': 'sum',\n",
        "    'number_of_persons_injured': 'sum'\n",
        "}).reset_index()\n",
        "\n",
        "# Calculating the total number of accidents for each weather condition\n",
        "weather_fatalities['Total Accidents'] = dataframe1.groupby('weather')['unique_key'].count().values\n",
        "\n",
        "# Sorting the DataFrame by the total number of deaths in descending order\n",
        "weather_fatalities_sorted = weather_fatalities.sort_values(by='number_of_persons_killed', ascending=False)\n",
        "\n",
        "# Displaying the weather condition with the highest number of deaths\n",
        "most_fatal_weather = weather_fatalities_sorted.iloc[0]['weather']\n",
        "total_fatalities_most_fatal_weather = weather_fatalities_sorted.iloc[0]['number_of_persons_killed']\n",
        "\n",
        "# Sorting the DataFrame by the total number of injuries in descending order\n",
        "weather_injuries_sorted = weather_fatalities.sort_values(by='number_of_persons_injured', ascending=False)\n",
        "\n",
        "# Displaying the weather condition with the highest number of injuries\n",
        "most_injurious_weather = weather_injuries_sorted.iloc[0]['weather']\n",
        "total_injuries_most_injurious_weather = weather_injuries_sorted.iloc[0]['number_of_persons_injured']\n",
        "\n",
        "print(f\"The weather condition with the highest number of deaths is '{most_fatal_weather}' with a total of {total_fatalities_most_fatal_weather} deaths.\")\n",
        "print(f\"The weather condition with the highest number of injuries is '{most_injurious_weather}' with a total of {total_injuries_most_injurious_weather} injuries.\")\n"
      ],
      "metadata": {
        "colab": {
          "base_uri": "https://localhost:8080/"
        },
        "id": "cKtmTFp81mZy",
        "outputId": "001ece9c-e198-494d-ab38-cb139b15f8f0"
      },
      "execution_count": null,
      "outputs": [
        {
          "output_type": "stream",
          "name": "stdout",
          "text": [
            "The weather condition with the highest number of deaths is 'rain' with a total of 110 deaths.\n",
            "The weather condition with the highest number of injuries is 'rain' with a total of 31425 injuries.\n"
          ]
        }
      ]
    },
    {
      "cell_type": "code",
      "source": [
        "import pandas as pd\n",
        "\n",
        "\n",
        "\n",
        "# Yearly accidents\n",
        "yearly_accidents = dataframe1.groupby('year')['unique_key'].count().reset_index()\n",
        "yearly_accidents.columns = ['Year', 'Total Accidents']\n",
        "\n",
        "# Monthly accidents\n",
        "monthly_accidents = dataframe1.groupby(['year', 'month'])['unique_key'].count().reset_index()\n",
        "monthly_accidents.columns = ['Year', 'Month', 'Total Accidents']\n",
        "\n",
        "# Yearly injuries\n",
        "yearly_injuries = dataframe1.groupby('year')['number_of_persons_injured'].sum().reset_index()\n",
        "yearly_injuries.columns = ['Year', 'Total Injuries']\n",
        "\n",
        "# Monthly injuries\n",
        "monthly_injuries = dataframe1.groupby(['year', 'month'])['number_of_persons_injured'].sum().reset_index()\n",
        "monthly_injuries.columns = ['Year', 'Month', 'Total Injuries']\n",
        "\n",
        "# Displaying the results\n",
        "print(\"Yearly Accidents:\")\n",
        "print(yearly_accidents)\n",
        "\n",
        "print(\"\\nMonthly Accidents:\")\n",
        "print(monthly_accidents)\n",
        "\n",
        "print(\"\\nYearly Injuries:\")\n",
        "print(yearly_injuries)\n",
        "\n",
        "print(\"\\nMonthly Injuries:\")\n",
        "print(monthly_injuries)\n"
      ],
      "metadata": {
        "colab": {
          "base_uri": "https://localhost:8080/"
        },
        "id": "ILpV3p723Sxw",
        "outputId": "01ccfc04-c168-4efe-898c-3dd184ca1e0b"
      },
      "execution_count": null,
      "outputs": [
        {
          "output_type": "stream",
          "name": "stdout",
          "text": [
            "Yearly Accidents:\n",
            "   Year  Total Accidents\n",
            "0  2018            46132\n",
            "1  2019            43351\n",
            "2  2020            24763\n",
            "3  2021            24203\n",
            "4  2022            22063\n",
            "\n",
            "Monthly Accidents:\n",
            "    Year  Month  Total Accidents\n",
            "0   2018      1             3656\n",
            "1   2018      2             3122\n",
            "2   2018      3             3859\n",
            "3   2018      4             3534\n",
            "4   2018      5             4171\n",
            "5   2018      6             4164\n",
            "6   2018      7             4015\n",
            "7   2018      8             4111\n",
            "8   2018      9             3764\n",
            "9   2018     10             4129\n",
            "10  2018     11             3795\n",
            "11  2018     12             3812\n",
            "12  2019      1             3414\n",
            "13  2019      2             3234\n",
            "14  2019      3             3612\n",
            "15  2019      4             3397\n",
            "16  2019      5             4042\n",
            "17  2019      6             4059\n",
            "18  2019      7             3824\n",
            "19  2019      8             3592\n",
            "20  2019      9             3696\n",
            "21  2019     10             3445\n",
            "22  2019     11             3476\n",
            "23  2019     12             3560\n",
            "24  2020      1             3018\n",
            "25  2020      2             2960\n",
            "26  2020      3             2435\n",
            "27  2020      4              891\n",
            "28  2020      5             1352\n",
            "29  2020      6             1739\n",
            "30  2020      7             2128\n",
            "31  2020      8             2191\n",
            "32  2020      9             2144\n",
            "33  2020     10             2090\n",
            "34  2020     11             1949\n",
            "35  2020     12             1866\n",
            "36  2021      1             1754\n",
            "37  2021      2             1597\n",
            "38  2021      3             1761\n",
            "39  2021      4             1964\n",
            "40  2021      5             2232\n",
            "41  2021      6             2377\n",
            "42  2021      7             2207\n",
            "43  2021      8             2162\n",
            "44  2021      9             2152\n",
            "45  2021     10             2110\n",
            "46  2021     11             1996\n",
            "47  2021     12             1891\n",
            "48  2022      1             1748\n",
            "49  2022      2             1539\n",
            "50  2022      3             1928\n",
            "51  2022      4             1665\n",
            "52  2022      5             1865\n",
            "53  2022      6             2055\n",
            "54  2022      7             1918\n",
            "55  2022      8             1974\n",
            "56  2022      9             1975\n",
            "57  2022     10             1862\n",
            "58  2022     11             1768\n",
            "59  2022     12             1766\n",
            "\n",
            "Yearly Injuries:\n",
            "   Year  Total Injuries\n",
            "0  2018           12812\n",
            "1  2019           12587\n",
            "2  2020            9360\n",
            "3  2021           11188\n",
            "4  2022           10806\n",
            "\n",
            "Monthly Injuries:\n",
            "    Year  Month  Total Injuries\n",
            "0   2018      1             964\n",
            "1   2018      2             794\n",
            "2   2018      3             949\n",
            "3   2018      4             913\n",
            "4   2018      5            1178\n",
            "5   2018      6            1167\n",
            "6   2018      7            1164\n",
            "7   2018      8            1261\n",
            "8   2018      9            1249\n",
            "9   2018     10            1132\n",
            "10  2018     11             904\n",
            "11  2018     12            1137\n",
            "12  2019      1             925\n",
            "13  2019      2             837\n",
            "14  2019      3             940\n",
            "15  2019      4             992\n",
            "16  2019      5            1177\n",
            "17  2019      6            1180\n",
            "18  2019      7            1264\n",
            "19  2019      8            1141\n",
            "20  2019      9            1052\n",
            "21  2019     10            1054\n",
            "22  2019     11             977\n",
            "23  2019     12            1048\n",
            "24  2020      1             882\n",
            "25  2020      2             812\n",
            "26  2020      3             613\n",
            "27  2020      4             274\n",
            "28  2020      5             535\n",
            "29  2020      6             840\n",
            "30  2020      7             954\n",
            "31  2020      8            1027\n",
            "32  2020      9             975\n",
            "33  2020     10             896\n",
            "34  2020     11             849\n",
            "35  2020     12             703\n",
            "36  2021      1             664\n",
            "37  2021      2             534\n",
            "38  2021      3             734\n",
            "39  2021      4             905\n",
            "40  2021      5            1083\n",
            "41  2021      6            1120\n",
            "42  2021      7            1041\n",
            "43  2021      8            1092\n",
            "44  2021      9            1115\n",
            "45  2021     10            1023\n",
            "46  2021     11             963\n",
            "47  2021     12             914\n",
            "48  2022      1             677\n",
            "49  2022      2             689\n",
            "50  2022      3             884\n",
            "51  2022      4             788\n",
            "52  2022      5             904\n",
            "53  2022      6            1081\n",
            "54  2022      7            1083\n",
            "55  2022      8            1041\n",
            "56  2022      9             946\n",
            "57  2022     10             995\n",
            "58  2022     11             833\n",
            "59  2022     12             885\n"
          ]
        }
      ]
    },
    {
      "cell_type": "code",
      "source": [
        "import pandas as pd\n",
        "\n",
        "\n",
        "# Month with the maximum number of deaths for each year\n",
        "max_killed_monthly = dataframe1.loc[dataframe1.groupby(['year'])['number_of_persons_killed'].idxmax()]\n",
        "\n",
        "# Creating a DataFrame to display the results\n",
        "results_max_killed = pd.DataFrame({\n",
        "    'Year': max_killed_monthly['year'],\n",
        "    'Month': max_killed_monthly['month'],\n",
        "    'Max Deaths': max_killed_monthly['number_of_persons_killed']\n",
        "})\n",
        "\n",
        "# Displaying the results\n",
        "print(\"Yearly Maximum Deaths:\")\n",
        "print(results_max_killed)\n"
      ],
      "metadata": {
        "colab": {
          "base_uri": "https://localhost:8080/"
        },
        "outputId": "748b7049-e420-4be3-d66f-c2282fec4cbb",
        "id": "Eup6Jq6cIgbI"
      },
      "execution_count": null,
      "outputs": [
        {
          "output_type": "stream",
          "name": "stdout",
          "text": [
            "Yearly Maximum Deaths:\n",
            "        Year  Month  Max Deaths\n",
            "126801  2018      3           2\n",
            "73975   2019      6           2\n",
            "36291   2020      7           3\n",
            "2439    2021      2           1\n",
            "2639    2022      2           1\n"
          ]
        }
      ]
    },
    {
      "cell_type": "code",
      "source": [
        "import pandas as pd\n",
        "\n",
        "\n",
        "# Month with the maximum number of persons injured for each year\n",
        "max_injuries_monthly = dataframe1.loc[dataframe1.groupby(['year'])['number_of_persons_injured'].idxmax()]\n",
        "\n",
        "# Creating a DataFrame to display the results\n",
        "results_max_injuries = pd.DataFrame({\n",
        "    'Year': max_injuries_monthly['year'],\n",
        "    'Month': max_injuries_monthly['month'],\n",
        "    'Max Injuries': max_injuries_monthly['number_of_persons_injured']\n",
        "})\n",
        "\n",
        "# Displaying the results\n",
        "print(\"Yearly Maximum Persons Injured:\")\n",
        "print(results_max_injuries)\n"
      ],
      "metadata": {
        "colab": {
          "base_uri": "https://localhost:8080/"
        },
        "id": "iUgv4h5c-iQv",
        "outputId": "e42a5b30-5552-4443-c1d4-eadf886f2183"
      },
      "execution_count": null,
      "outputs": [
        {
          "output_type": "stream",
          "name": "stdout",
          "text": [
            "Yearly Maximum Persons Injured:\n",
            "        Year  Month  Max Injuries\n",
            "34602   2018      4            22\n",
            "105587  2019      6            14\n",
            "36975   2020      8            15\n",
            "50249   2021      6            10\n",
            "9901    2022      5            15\n"
          ]
        }
      ]
    },
    {
      "cell_type": "code",
      "source": [
        "import pandas as pd\n",
        "\n",
        "# Finding the index of the row with the maximum number of deaths\n",
        "max_deaths_index = dataframe1['number_of_persons_killed'].idxmax()\n",
        "\n",
        "# Extracting the entire row for the accident with the maximum number of deaths\n",
        "max_deaths_row = dataframe1.loc[max_deaths_index]\n",
        "\n",
        "# Displaying the entire row\n",
        "print(\"Accident with Maximum Deaths:\")\n",
        "print(max_deaths_row)\n"
      ],
      "metadata": {
        "colab": {
          "base_uri": "https://localhost:8080/"
        },
        "id": "50XVSDC3_Dta",
        "outputId": "94102d84-263c-4bf2-d5e0-9529c829e72a"
      },
      "execution_count": null,
      "outputs": [
        {
          "output_type": "stream",
          "name": "stdout",
          "text": [
            "Accident with Maximum Deaths:\n",
            "index                                                               36291\n",
            "borough                                                          BROOKLYN\n",
            "contributing_factor_vehicle_1                         Driver Inexperience\n",
            "contributing_factor_vehicle_2                         Driver Inexperience\n",
            "contributing_factor_vehicle_3                                        None\n",
            "contributing_factor_vehicle_4                                        None\n",
            "contributing_factor_vehicle_5                                        None\n",
            "cross_street_name                                                   OTHER\n",
            "timestamp                                             2020-07-11 20:18:00\n",
            "latitude                                                         40.58993\n",
            "longitude                                                       -73.90059\n",
            "location                                            (40.58993, -73.90059)\n",
            "number_of_cyclist_injured                                               0\n",
            "number_of_cyclist_killed                                                0\n",
            "number_of_motorist_injured                                              4\n",
            "number_of_motorist_killed                                               3\n",
            "number_of_pedestrians_injured                                           0\n",
            "number_of_pedestrians_killed                                            0\n",
            "number_of_persons_injured                                               4\n",
            "number_of_persons_killed                                                3\n",
            "off_street_name                  3159      FLATBUSH AVENUE               \n",
            "on_street_name                                                      OTHER\n",
            "unique_key                                                        4327676\n",
            "vehicle_type_code1                                                  Sedan\n",
            "vehicle_type_code2                                                  Sedan\n",
            "vehicle_type_code_3                                                  None\n",
            "vehicle_type_code_4                                                  None\n",
            "vehicle_type_code_5                                                  None\n",
            "zip_code                                                            11234\n",
            "year                                                                 2020\n",
            "month                                                                   7\n",
            "day_of_week                                                      Saturday\n",
            "hour                                                                   20\n",
            "date                                                  2020-07-11 00:00:00\n",
            "weather                                                              rain\n",
            "Name: 36291, dtype: object\n"
          ]
        }
      ]
    },
    {
      "cell_type": "code",
      "source": [
        "import pandas as pd\n",
        "import matplotlib.pyplot as plt\n",
        "\n",
        "\n",
        "\n",
        "# Finding the index of the row with the maximum number of deaths for each year\n",
        "max_deaths_indices = dataframe1.groupby('year')['number_of_persons_killed'].idxmax()\n",
        "\n",
        "# Extracting the entire row for the accident with the maximum number of deaths for each year\n",
        "max_deaths_rows = dataframe1.loc[max_deaths_indices]\n",
        "\n",
        "# Bar chart\n",
        "plt.bar(max_deaths_rows['year'], max_deaths_rows['number_of_persons_killed'], color='red')\n",
        "plt.xlabel('Year')\n",
        "plt.ylabel('Number of Deaths')\n",
        "plt.title('Accidents with Maximum Deaths for Each Year')\n",
        "plt.show()\n"
      ],
      "metadata": {
        "colab": {
          "base_uri": "https://localhost:8080/",
          "height": 472
        },
        "id": "3x06Hq5NATTH",
        "outputId": "25e271ba-d998-4c24-ea00-fef13b23ed8a"
      },
      "execution_count": null,
      "outputs": [
        {
          "output_type": "display_data",
          "data": {
            "text/plain": [
              "<Figure size 640x480 with 1 Axes>"
            ],
            "image/png": "[encoded data removed]"
          },
          "metadata": {}
        }
      ]
    },
    {
      "cell_type": "code",
      "source": [
        "import pandas as pd\n",
        "import matplotlib.pyplot as plt\n",
        "\n",
        "\n",
        "# Grouping by contributing factor and calculating the total number of injuries\n",
        "contributing_factor_injuries = dataframe1.groupby('contributing_factor_vehicle_1')['number_of_persons_injured'].sum().reset_index()\n",
        "\n",
        "# Finding the contributing factor with the maximum number of injuries\n",
        "max_injuries_contributing_factor = contributing_factor_injuries.loc[contributing_factor_injuries['number_of_persons_injured'].idxmax()]\n",
        "\n",
        "# Displaying the contributing factor with the maximum number of injuries\n",
        "print(\"Contributing Factor with Maximum Injuries:\")\n",
        "print(max_injuries_contributing_factor)\n",
        "\n",
        "# Creating a bar chart for injuries by contributing factor\n",
        "plt.figure(figsize=(10, 6))\n",
        "plt.bar(contributing_factor_injuries['contributing_factor_vehicle_1'], contributing_factor_injuries['number_of_persons_injured'])\n",
        "plt.xlabel('Contributing Factor')\n",
        "plt.ylabel('Number of Injuries')\n",
        "plt.title('Number of Injuries by Contributing Factor')\n",
        "plt.xticks(rotation=90)\n",
        "plt.show()\n"
      ],
      "metadata": {
        "colab": {
          "base_uri": "https://localhost:8080/",
          "height": 988
        },
        "outputId": "d642af4e-19f1-4e4d-8075-d4a3b86effc5",
        "id": "_G2IkpTLIcXY"
      },
      "execution_count": null,
      "outputs": [
        {
          "output_type": "stream",
          "name": "stdout",
          "text": [
            "Contributing Factor with Maximum Injuries:\n",
            "contributing_factor_vehicle_1    Unspecified\n",
            "number_of_persons_injured              15014\n",
            "Name: 50, dtype: object\n"
          ]
        },
        {
          "output_type": "display_data",
          "data": {
            "text/plain": [
              "<Figure size 1000x600 with 1 Axes>"
            ],
            "image/png": "[encoded data removed]"
          },
          "metadata": {}
        }
      ]
    },
    {
      "cell_type": "code",
      "source": [
        "import pandas as pd\n",
        "import matplotlib.pyplot as plt\n",
        "\n",
        "\n",
        "\n",
        "# Grouping by contributing factor and calculating the total number of injuries\n",
        "contributing_factor_injuries = dataframe1.groupby('contributing_factor_vehicle_1')['number_of_persons_injured'].sum().reset_index()\n",
        "\n",
        "# Sorting by the number of injuries in descending order\n",
        "top_injuries_factors = contributing_factor_injuries.sort_values(by='number_of_persons_injured', ascending=False).head(5)\n",
        "\n",
        "# Displaying the top 5 contributing factors for injuries\n",
        "print(\"Top 5 Contributing Factors for Injuries:\")\n",
        "print(top_injuries_factors)\n",
        "\n",
        "# Creating a bar chart for injuries by contributing factor\n",
        "plt.figure(figsize=(10, 6))\n",
        "plt.bar(top_injuries_factors['contributing_factor_vehicle_1'], top_injuries_factors['number_of_persons_injured'])\n",
        "plt.xlabel('Contributing Factor')\n",
        "plt.ylabel('Number of Injuries')\n",
        "plt.title('Top 5 Contributing Factors for Injuries')\n",
        "plt.xticks(rotation=45, ha='right')\n",
        "plt.show()\n"
      ],
      "metadata": {
        "colab": {
          "base_uri": "https://localhost:8080/",
          "height": 826
        },
        "id": "iJaD7sPLFk07",
        "outputId": "26ebfada-419b-47ad-d16a-ff6227ee5b30"
      },
      "execution_count": null,
      "outputs": [
        {
          "output_type": "stream",
          "name": "stdout",
          "text": [
            "Top 5 Contributing Factors for Injuries:\n",
            "     contributing_factor_vehicle_1  number_of_persons_injured\n",
            "50                     Unspecified                      15014\n",
            "8   Driver Inattention/Distraction                      14321\n",
            "14   Failure to Yield Right-of-Way                       7083\n",
            "17           Following Too Closely                       2962\n",
            "46     Traffic Control Disregarded                       2733\n"
          ]
        },
        {
          "output_type": "display_data",
          "data": {
            "text/plain": [
              "<Figure size 1000x600 with 1 Axes>"
            ],
            "image/png": "[encoded data removed]"
          },
          "metadata": {}
        }
      ]
    },
    {
      "cell_type": "code",
      "source": [
        "import pandas as pd\n",
        "import matplotlib.pyplot as plt\n",
        "\n",
        "\n",
        "# Grouping by contributing factor and calculating the total number of deaths\n",
        "contributing_factor_deaths = dataframe1.groupby('contributing_factor_vehicle_1')['number_of_persons_killed'].sum().reset_index()\n",
        "\n",
        "# Sorting by the number of deaths in descending order\n",
        "top_deaths_factors = contributing_factor_deaths.sort_values(by='number_of_persons_killed', ascending=False).head(5)\n",
        "\n",
        "# Displaying the top 5 contributing factors for deaths\n",
        "print(\"Top 5 Contributing Factors for Deaths:\")\n",
        "print(top_deaths_factors)\n",
        "\n",
        "# Creating a bar chart for deaths by contributing factor\n",
        "plt.figure(figsize=(10, 6))\n",
        "plt.bar(top_deaths_factors['contributing_factor_vehicle_1'], top_deaths_factors['number_of_persons_killed'])\n",
        "plt.xlabel('Contributing Factor')\n",
        "plt.ylabel('Number of Deaths')\n",
        "plt.title('Top 5 Contributing Factors for Deaths')\n",
        "plt.xticks(rotation=45, ha='right')\n",
        "plt.show()\n"
      ],
      "metadata": {
        "colab": {
          "base_uri": "https://localhost:8080/",
          "height": 826
        },
        "id": "badblDdjGpzj",
        "outputId": "14c9434d-99b9-49fa-f2d2-44702ce9d41d"
      },
      "execution_count": null,
      "outputs": [
        {
          "output_type": "stream",
          "name": "stdout",
          "text": [
            "Top 5 Contributing Factors for Deaths:\n",
            "     contributing_factor_vehicle_1  number_of_persons_killed\n",
            "50                     Unspecified                        58\n",
            "14   Failure to Yield Right-of-Way                        36\n",
            "49                    Unsafe Speed                        29\n",
            "8   Driver Inattention/Distraction                        28\n",
            "46     Traffic Control Disregarded                        22\n"
          ]
        },
        {
          "output_type": "display_data",
          "data": {
            "text/plain": [
              "<Figure size 1000x600 with 1 Axes>"
            ],
            "image/png": "[encoded data removed]"
          },
          "metadata": {}
        }
      ]
    },
    {
      "cell_type": "code",
      "source": [
        "import pandas as pd\n",
        "\n",
        "\n",
        "# Grouping by year and summing the number of injuries for each category\n",
        "injuries_by_category = dataframe1.groupby('year')[['number_of_cyclist_injured', 'number_of_motorist_injured', 'number_of_pedestrians_injured']].sum()\n",
        "\n",
        "# Displaying the results\n",
        "print(\"Number of Injuries by Category Each Year:\")\n",
        "print(injuries_by_category)\n"
      ],
      "metadata": {
        "colab": {
          "base_uri": "https://localhost:8080/"
        },
        "id": "ZobHeVA6LTA_",
        "outputId": "b80c3c20-8948-4900-f966-7a395985f035"
      },
      "execution_count": null,
      "outputs": [
        {
          "output_type": "stream",
          "name": "stdout",
          "text": [
            "Number of Injuries by Category Each Year:\n",
            "      number_of_cyclist_injured  number_of_motorist_injured  \\\n",
            "year                                                          \n",
            "2018                       1348                        8850   \n",
            "2019                       1377                        8707   \n",
            "2020                       1521                        6190   \n",
            "2021                       1331                        7560   \n",
            "2022                       1357                        6749   \n",
            "\n",
            "      number_of_pedestrians_injured  \n",
            "year                                 \n",
            "2018                           2611  \n",
            "2019                           2503  \n",
            "2020                           1649  \n",
            "2021                           1731  \n",
            "2022                           2043  \n"
          ]
        }
      ]
    },
    {
      "cell_type": "code",
      "source": [
        "import pandas as pd\n",
        "\n",
        "\n",
        "# Grouping by year and summing the number of deaths for each category\n",
        "deaths_by_category = dataframe1.groupby('year')[['number_of_cyclist_killed', 'number_of_motorist_killed', 'number_of_pedestrians_killed']].sum()\n",
        "\n",
        "# Displaying the results\n",
        "print(\"Number of Deaths by Category Each Year:\")\n",
        "print(deaths_by_category)\n"
      ],
      "metadata": {
        "colab": {
          "base_uri": "https://localhost:8080/"
        },
        "id": "N6v9IkiCLiNM",
        "outputId": "ea1d9bb9-3f91-4d87-99e1-94f034de0da9"
      },
      "execution_count": null,
      "outputs": [
        {
          "output_type": "stream",
          "name": "stdout",
          "text": [
            "Number of Deaths by Category Each Year:\n",
            "      number_of_cyclist_killed  number_of_motorist_killed  \\\n",
            "year                                                        \n",
            "2018                         2                         14   \n",
            "2019                        13                         12   \n",
            "2020                         8                         23   \n",
            "2021                         2                         16   \n",
            "2022                         4                         12   \n",
            "\n",
            "      number_of_pedestrians_killed  \n",
            "year                                \n",
            "2018                            21  \n",
            "2019                            30  \n",
            "2020                            16  \n",
            "2021                            25  \n",
            "2022                            22  \n"
          ]
        }
      ]
    },
    {
      "cell_type": "code",
      "source": [
        "import pandas as pd\n",
        "\n",
        "\n",
        "# Filter rows where pedestrians were killed\n",
        "pedestrian_fatalities = dataframe1[dataframe1['number_of_pedestrians_killed'] > 0]\n",
        "\n",
        "# Extract relevant columns for analysis\n",
        "columns_of_interest = ['contributing_factor_vehicle_1', 'vehicle_type_code1']\n",
        "pedestrian_fatalities_data = pedestrian_fatalities[columns_of_interest]\n",
        "\n",
        "# Displaying the factors affecting pedestrian deaths\n",
        "print(\"Factors Affecting Pedestrian Deaths:\")\n",
        "print(pedestrian_fatalities_data)\n"
      ],
      "metadata": {
        "colab": {
          "base_uri": "https://localhost:8080/"
        },
        "id": "rYKplZUjMDGa",
        "outputId": "9b13d726-4e50-483d-b0b1-093f0fc46030"
      },
      "execution_count": null,
      "outputs": [
        {
          "output_type": "stream",
          "name": "stdout",
          "text": [
            "Factors Affecting Pedestrian Deaths:\n",
            "         contributing_factor_vehicle_1                   vehicle_type_code1\n",
            "2439     Failure to Yield Right-of-Way                              Unknown\n",
            "2639    Driver Inattention/Distraction                                  Bus\n",
            "2892                       Unspecified                                Sedan\n",
            "6119       Traffic Control Disregarded  Station Wagon/Sport Utility Vehicle\n",
            "8356     Failure to Yield Right-of-Way  Station Wagon/Sport Utility Vehicle\n",
            "...                                ...                                  ...\n",
            "150601                     Unspecified                            Box Truck\n",
            "152520                Backing Unsafely                           Backhoe Lo\n",
            "153439      Driverless/Runaway Vehicle  Station Wagon/Sport Utility Vehicle\n",
            "155301                     Unspecified                              Unknown\n",
            "159158     Traffic Control Disregarded                                Sedan\n",
            "\n",
            "[113 rows x 2 columns]\n"
          ]
        }
      ]
    },
    {
      "cell_type": "code",
      "source": [
        "import pandas as pd\n",
        "\n",
        "\n",
        "\n",
        "# Filter rows where pedestrians were killed\n",
        "pedestrian_fatalities = dataframe1[dataframe1['number_of_pedestrians_killed'] > 0]\n",
        "\n",
        "# Extract relevant columns for analysis\n",
        "columns_of_interest = ['contributing_factor_vehicle_1', 'vehicle_type_code1']\n",
        "pedestrian_fatalities_data = pedestrian_fatalities[columns_of_interest]\n",
        "\n",
        "# Grouping by contributing factors and vehicle types and counting occurrences\n",
        "pedestrian_fatalities_summary = pedestrian_fatalities_data.groupby(['contributing_factor_vehicle_1', 'vehicle_type_code1']).size().reset_index(name='count')\n",
        "\n",
        "# Sorting by the count in descending order\n",
        "pedestrian_fatalities_summary_sorted = pedestrian_fatalities_summary.sort_values(by='count', ascending=False)\n",
        "\n",
        "# Displaying the summary\n",
        "print(\"Top Factors Affecting Pedestrian Deaths:\")\n",
        "print(pedestrian_fatalities_summary_sorted)\n",
        "\n"
      ],
      "metadata": {
        "colab": {
          "base_uri": "https://localhost:8080/"
        },
        "id": "TLeYYnHzMppk",
        "outputId": "d4966f36-7660-4457-ec95-570578730d4b"
      },
      "execution_count": null,
      "outputs": [
        {
          "output_type": "stream",
          "name": "stdout",
          "text": [
            "Top Factors Affecting Pedestrian Deaths:\n",
            "                        contributing_factor_vehicle_1  \\\n",
            "39                                        Unspecified   \n",
            "18                      Failure to Yield Right-of-Way   \n",
            "38                                        Unspecified   \n",
            "8                      Driver Inattention/Distraction   \n",
            "28                        Traffic Control Disregarded   \n",
            "34                                        Unspecified   \n",
            "32                                       Unsafe Speed   \n",
            "17                      Failure to Yield Right-of-Way   \n",
            "14                      Failure to Yield Right-of-Way   \n",
            "7                      Driver Inattention/Distraction   \n",
            "11                                Driver Inexperience   \n",
            "27                        Traffic Control Disregarded   \n",
            "13                      Failure to Yield Right-of-Way   \n",
            "15                      Failure to Yield Right-of-Way   \n",
            "16                      Failure to Yield Right-of-Way   \n",
            "5                      Driver Inattention/Distraction   \n",
            "20                      Failure to Yield Right-of-Way   \n",
            "41                                        Unspecified   \n",
            "1                                    Backing Unsafely   \n",
            "33                                        Unspecified   \n",
            "30                                       Unsafe Speed   \n",
            "31                                       Unsafe Speed   \n",
            "42                            View Obstructed/Limited   \n",
            "35                                        Unspecified   \n",
            "37                                        Unspecified   \n",
            "40                                        Unspecified   \n",
            "29                                 Turning Improperly   \n",
            "36                                        Unspecified   \n",
            "0                                    Backing Unsafely   \n",
            "22                                             Illnes   \n",
            "26                        Traffic Control Disregarded   \n",
            "25  Pedestrian/Bicyclist/Other Pedestrian Error/Co...   \n",
            "24  Pedestrian/Bicyclist/Other Pedestrian Error/Co...   \n",
            "23  Pedestrian/Bicyclist/Other Pedestrian Error/Co...   \n",
            "21                                             Illnes   \n",
            "19                      Failure to Yield Right-of-Way   \n",
            "12                         Driverless/Runaway Vehicle   \n",
            "10                                Driver Inexperience   \n",
            "9                      Driver Inattention/Distraction   \n",
            "6                      Driver Inattention/Distraction   \n",
            "4                      Driver Inattention/Distraction   \n",
            "3                                    Backing Unsafely   \n",
            "2                                    Backing Unsafely   \n",
            "43                            View Obstructed/Limited   \n",
            "\n",
            "                     vehicle_type_code1  count  \n",
            "39  Station Wagon/Sport Utility Vehicle     17  \n",
            "18  Station Wagon/Sport Utility Vehicle     16  \n",
            "38                                Sedan      9  \n",
            "8   Station Wagon/Sport Utility Vehicle      7  \n",
            "28  Station Wagon/Sport Utility Vehicle      5  \n",
            "34                            Box Truck      4  \n",
            "32  Station Wagon/Sport Utility Vehicle      3  \n",
            "17                                Sedan      3  \n",
            "14                                  Bus      3  \n",
            "7                                 Sedan      3  \n",
            "11  Station Wagon/Sport Utility Vehicle      2  \n",
            "27                                Sedan      2  \n",
            "13                            Box Truck      2  \n",
            "15                    Garbage or Refuse      2  \n",
            "16                        Pick-up Truck      2  \n",
            "5                                   Bus      2  \n",
            "20                              Unknown      2  \n",
            "41                              Unknown      2  \n",
            "1                                 Sedan      2  \n",
            "33                            AMBULANCE      1  \n",
            "30                                   PK      1  \n",
            "31                                Sedan      1  \n",
            "42                             Flat Bed      1  \n",
            "35                       Concrete Mixer      1  \n",
            "37                        Pick-up Truck      1  \n",
            "40                 Tractor Truck Diesel      1  \n",
            "29  Station Wagon/Sport Utility Vehicle      1  \n",
            "36                             Flat Bed      1  \n",
            "0                            Backhoe Lo      1  \n",
            "22  Station Wagon/Sport Utility Vehicle      1  \n",
            "26                               E-Bike      1  \n",
            "25  Station Wagon/Sport Utility Vehicle      1  \n",
            "24                                Sedan      1  \n",
            "23                                  Bus      1  \n",
            "21                                Sedan      1  \n",
            "19                 Tractor Truck Diesel      1  \n",
            "12  Station Wagon/Sport Utility Vehicle      1  \n",
            "10                                Sedan      1  \n",
            "9                  Tractor Truck Diesel      1  \n",
            "6                         Pick-up Truck      1  \n",
            "4                             Box Truck      1  \n",
            "3                  Tractor Truck Diesel      1  \n",
            "2   Station Wagon/Sport Utility Vehicle      1  \n",
            "43                 Tractor Truck Diesel      1  \n"
          ]
        }
      ]
    },
    {
      "cell_type": "code",
      "source": [
        "import pandas as pd\n",
        "\n",
        "# Create a new column with sorted combinations of vehicle types\n",
        "dataframe1['sorted_combination'] = dataframe1[['vehicle_type_code1', 'vehicle_type_code2']].apply(lambda x: '-'.join(sorted(x)), axis=1)\n",
        "\n",
        "# Group by the sorted combinations and count occurrences\n",
        "combination_counts = dataframe1.groupby('sorted_combination').size().reset_index(name='count')\n",
        "\n",
        "# Sort the counts in descending order\n",
        "combination_counts_sorted = combination_counts.sort_values(by='count', ascending=False)\n",
        "\n",
        "# Display the top 10 combinations\n",
        "top_10_combinations = combination_counts_sorted.head(10)\n",
        "print(\"Top 10 Vehicle Type Combinations and Occurrence Counts:\")\n",
        "print(top_10_combinations)\n",
        "\n",
        "# Drop the temporary column\n",
        "dataframe1.drop('sorted_combination', axis=1, inplace=True)\n",
        "\n"
      ],
      "metadata": {
        "colab": {
          "base_uri": "https://localhost:8080/",
          "height": 391
        },
        "id": "417QE5L7No4V",
        "outputId": "156e0aaf-a8ca-41fe-fd35-43dbd52dc67a"
      },
      "execution_count": null,
      "outputs": [
        {
          "output_type": "error",
          "ename": "TypeError",
          "evalue": "'<' not supported between instances of 'int' and 'str'",
          "traceback": [
            "\u001b[0;31m---------------------------------------------------------------------------\u001b[0m",
            "\u001b[0;31mTypeError\u001b[0m                                 Traceback (most recent call last)",
            "\u001b[0;32m<ipython-input-119-883236da9f29>\u001b[0m in \u001b[0;36m<cell line: 4>\u001b[0;34m()\u001b[0m\n\u001b[1;32m      2\u001b[0m \u001b[0;34m\u001b[0m\u001b[0m\n\u001b[1;32m      3\u001b[0m \u001b[0;31m# Create a new column with sorted combinations of vehicle types\u001b[0m\u001b[0;34m\u001b[0m\u001b[0;34m\u001b[0m\u001b[0m\n\u001b[0;32m----> 4\u001b[0;31m \u001b[0mdataframe1\u001b[0m\u001b[0;34m[\u001b[0m\u001b[0;34m'sorted_combination'\u001b[0m\u001b[0;34m]\u001b[0m \u001b[0;34m=\u001b[0m \u001b[0mdataframe1\u001b[0m\u001b[0;34m[\u001b[0m\u001b[0;34m[\u001b[0m\u001b[0;34m'vehicle_type_code1'\u001b[0m\u001b[0;34m,\u001b[0m \u001b[0;34m'vehicle_type_code2'\u001b[0m\u001b[0;34m]\u001b[0m\u001b[0;34m]\u001b[0m\u001b[0;34m.\u001b[0m\u001b[0mapply\u001b[0m\u001b[0;34m(\u001b[0m\u001b[0;32mlambda\u001b[0m \u001b[0mx\u001b[0m\u001b[0;34m:\u001b[0m \u001b[0;34m'-'\u001b[0m\u001b[0;34m.\u001b[0m\u001b[0mjoin\u001b[0m\u001b[0;34m(\u001b[0m\u001b[0msorted\u001b[0m\u001b[0;34m(\u001b[0m\u001b[0mx\u001b[0m\u001b[0;34m)\u001b[0m\u001b[0;34m)\u001b[0m\u001b[0;34m,\u001b[0m \u001b[0maxis\u001b[0m\u001b[0;34m=\u001b[0m\u001b[0;36m1\u001b[0m\u001b[0;34m)\u001b[0m\u001b[0;34m\u001b[0m\u001b[0;34m\u001b[0m\u001b[0m\n\u001b[0m\u001b[1;32m      5\u001b[0m \u001b[0;34m\u001b[0m\u001b[0m\n\u001b[1;32m      6\u001b[0m \u001b[0;31m# Group by the sorted combinations and count occurrences\u001b[0m\u001b[0;34m\u001b[0m\u001b[0;34m\u001b[0m\u001b[0m\n",
            "\u001b[0;32m/usr/local/lib/python3.10/dist-packages/pandas/core/frame.py\u001b[0m in \u001b[0;36mapply\u001b[0;34m(self, func, axis, raw, result_type, args, **kwargs)\u001b[0m\n\u001b[1;32m   9566\u001b[0m             \u001b[0mkwargs\u001b[0m\u001b[0;34m=\u001b[0m\u001b[0mkwargs\u001b[0m\u001b[0;34m,\u001b[0m\u001b[0;34m\u001b[0m\u001b[0;34m\u001b[0m\u001b[0m\n\u001b[1;32m   9567\u001b[0m         )\n\u001b[0;32m-> 9568\u001b[0;31m         \u001b[0;32mreturn\u001b[0m \u001b[0mop\u001b[0m\u001b[0;34m.\u001b[0m\u001b[0mapply\u001b[0m\u001b[0;34m(\u001b[0m\u001b[0;34m)\u001b[0m\u001b[0;34m.\u001b[0m\u001b[0m__finalize__\u001b[0m\u001b[0;34m(\u001b[0m\u001b[0mself\u001b[0m\u001b[0;34m,\u001b[0m \u001b[0mmethod\u001b[0m\u001b[0;34m=\u001b[0m\u001b[0;34m\"apply\"\u001b[0m\u001b[0;34m)\u001b[0m\u001b[0;34m\u001b[0m\u001b[0;34m\u001b[0m\u001b[0m\n\u001b[0m\u001b[1;32m   9569\u001b[0m \u001b[0;34m\u001b[0m\u001b[0m\n\u001b[1;32m   9570\u001b[0m     def applymap(\n",
            "\u001b[0;32m/usr/local/lib/python3.10/dist-packages/pandas/core/apply.py\u001b[0m in \u001b[0;36mapply\u001b[0;34m(self)\u001b[0m\n\u001b[1;32m    762\u001b[0m             \u001b[0;32mreturn\u001b[0m \u001b[0mself\u001b[0m\u001b[0;34m.\u001b[0m\u001b[0mapply_raw\u001b[0m\u001b[0;34m(\u001b[0m\u001b[0;34m)\u001b[0m\u001b[0;34m\u001b[0m\u001b[0;34m\u001b[0m\u001b[0m\n\u001b[1;32m    763\u001b[0m \u001b[0;34m\u001b[0m\u001b[0m\n\u001b[0;32m--> 764\u001b[0;31m         \u001b[0;32mreturn\u001b[0m \u001b[0mself\u001b[0m\u001b[0;34m.\u001b[0m\u001b[0mapply_standard\u001b[0m\u001b[0;34m(\u001b[0m\u001b[0;34m)\u001b[0m\u001b[0;34m\u001b[0m\u001b[0;34m\u001b[0m\u001b[0m\n\u001b[0m\u001b[1;32m    765\u001b[0m \u001b[0;34m\u001b[0m\u001b[0m\n\u001b[1;32m    766\u001b[0m     \u001b[0;32mdef\u001b[0m \u001b[0magg\u001b[0m\u001b[0;34m(\u001b[0m\u001b[0mself\u001b[0m\u001b[0;34m)\u001b[0m\u001b[0;34m:\u001b[0m\u001b[0;34m\u001b[0m\u001b[0;34m\u001b[0m\u001b[0m\n",
            "\u001b[0;32m/usr/local/lib/python3.10/dist-packages/pandas/core/apply.py\u001b[0m in \u001b[0;36mapply_standard\u001b[0;34m(self)\u001b[0m\n\u001b[1;32m    889\u001b[0m \u001b[0;34m\u001b[0m\u001b[0m\n\u001b[1;32m    890\u001b[0m     \u001b[0;32mdef\u001b[0m \u001b[0mapply_standard\u001b[0m\u001b[0;34m(\u001b[0m\u001b[0mself\u001b[0m\u001b[0;34m)\u001b[0m\u001b[0;34m:\u001b[0m\u001b[0;34m\u001b[0m\u001b[0;34m\u001b[0m\u001b[0m\n\u001b[0;32m--> 891\u001b[0;31m         \u001b[0mresults\u001b[0m\u001b[0;34m,\u001b[0m \u001b[0mres_index\u001b[0m \u001b[0;34m=\u001b[0m \u001b[0mself\u001b[0m\u001b[0;34m.\u001b[0m\u001b[0mapply_series_generator\u001b[0m\u001b[0;34m(\u001b[0m\u001b[0;34m)\u001b[0m\u001b[0;34m\u001b[0m\u001b[0;34m\u001b[0m\u001b[0m\n\u001b[0m\u001b[1;32m    892\u001b[0m \u001b[0;34m\u001b[0m\u001b[0m\n\u001b[1;32m    893\u001b[0m         \u001b[0;31m# wrap results\u001b[0m\u001b[0;34m\u001b[0m\u001b[0;34m\u001b[0m\u001b[0m\n",
            "\u001b[0;32m/usr/local/lib/python3.10/dist-packages/pandas/core/apply.py\u001b[0m in \u001b[0;36mapply_series_generator\u001b[0;34m(self)\u001b[0m\n\u001b[1;32m    905\u001b[0m             \u001b[0;32mfor\u001b[0m \u001b[0mi\u001b[0m\u001b[0;34m,\u001b[0m \u001b[0mv\u001b[0m \u001b[0;32min\u001b[0m \u001b[0menumerate\u001b[0m\u001b[0;34m(\u001b[0m\u001b[0mseries_gen\u001b[0m\u001b[0;34m)\u001b[0m\u001b[0;34m:\u001b[0m\u001b[0;34m\u001b[0m\u001b[0;34m\u001b[0m\u001b[0m\n\u001b[1;32m    906\u001b[0m                 \u001b[0;31m# ignore SettingWithCopy here in case the user mutates\u001b[0m\u001b[0;34m\u001b[0m\u001b[0;34m\u001b[0m\u001b[0m\n\u001b[0;32m--> 907\u001b[0;31m                 \u001b[0mresults\u001b[0m\u001b[0;34m[\u001b[0m\u001b[0mi\u001b[0m\u001b[0;34m]\u001b[0m \u001b[0;34m=\u001b[0m \u001b[0mself\u001b[0m\u001b[0;34m.\u001b[0m\u001b[0mf\u001b[0m\u001b[0;34m(\u001b[0m\u001b[0mv\u001b[0m\u001b[0;34m)\u001b[0m\u001b[0;34m\u001b[0m\u001b[0;34m\u001b[0m\u001b[0m\n\u001b[0m\u001b[1;32m    908\u001b[0m                 \u001b[0;32mif\u001b[0m \u001b[0misinstance\u001b[0m\u001b[0;34m(\u001b[0m\u001b[0mresults\u001b[0m\u001b[0;34m[\u001b[0m\u001b[0mi\u001b[0m\u001b[0;34m]\u001b[0m\u001b[0;34m,\u001b[0m \u001b[0mABCSeries\u001b[0m\u001b[0;34m)\u001b[0m\u001b[0;34m:\u001b[0m\u001b[0;34m\u001b[0m\u001b[0;34m\u001b[0m\u001b[0m\n\u001b[1;32m    909\u001b[0m                     \u001b[0;31m# If we have a view on v, we need to make a copy because\u001b[0m\u001b[0;34m\u001b[0m\u001b[0;34m\u001b[0m\u001b[0m\n",
            "\u001b[0;32m<ipython-input-119-883236da9f29>\u001b[0m in \u001b[0;36m<lambda>\u001b[0;34m(x)\u001b[0m\n\u001b[1;32m      2\u001b[0m \u001b[0;34m\u001b[0m\u001b[0m\n\u001b[1;32m      3\u001b[0m \u001b[0;31m# Create a new column with sorted combinations of vehicle types\u001b[0m\u001b[0;34m\u001b[0m\u001b[0;34m\u001b[0m\u001b[0m\n\u001b[0;32m----> 4\u001b[0;31m \u001b[0mdataframe1\u001b[0m\u001b[0;34m[\u001b[0m\u001b[0;34m'sorted_combination'\u001b[0m\u001b[0;34m]\u001b[0m \u001b[0;34m=\u001b[0m \u001b[0mdataframe1\u001b[0m\u001b[0;34m[\u001b[0m\u001b[0;34m[\u001b[0m\u001b[0;34m'vehicle_type_code1'\u001b[0m\u001b[0;34m,\u001b[0m \u001b[0;34m'vehicle_type_code2'\u001b[0m\u001b[0;34m]\u001b[0m\u001b[0;34m]\u001b[0m\u001b[0;34m.\u001b[0m\u001b[0mapply\u001b[0m\u001b[0;34m(\u001b[0m\u001b[0;32mlambda\u001b[0m \u001b[0mx\u001b[0m\u001b[0;34m:\u001b[0m \u001b[0;34m'-'\u001b[0m\u001b[0;34m.\u001b[0m\u001b[0mjoin\u001b[0m\u001b[0;34m(\u001b[0m\u001b[0msorted\u001b[0m\u001b[0;34m(\u001b[0m\u001b[0mx\u001b[0m\u001b[0;34m)\u001b[0m\u001b[0;34m)\u001b[0m\u001b[0;34m,\u001b[0m \u001b[0maxis\u001b[0m\u001b[0;34m=\u001b[0m\u001b[0;36m1\u001b[0m\u001b[0;34m)\u001b[0m\u001b[0;34m\u001b[0m\u001b[0;34m\u001b[0m\u001b[0m\n\u001b[0m\u001b[1;32m      5\u001b[0m \u001b[0;34m\u001b[0m\u001b[0m\n\u001b[1;32m      6\u001b[0m \u001b[0;31m# Group by the sorted combinations and count occurrences\u001b[0m\u001b[0;34m\u001b[0m\u001b[0;34m\u001b[0m\u001b[0m\n",
            "\u001b[0;31mTypeError\u001b[0m: '<' not supported between instances of 'int' and 'str'"
          ]
        }
      ]
    },
    {
      "cell_type": "code",
      "source": [
        "import pandas as pd\n",
        "\n",
        "top_n = 50\n",
        "\n",
        "# Grouping by vehicle type code 1 and summing the number of persons injured\n",
        "injuries_by_vehicle_type1 = dataframe1.groupby('vehicle_type_code1')['number_of_persons_injured'].sum().reset_index()\n",
        "\n",
        "# Sorting by the total number of persons injured in descending order\n",
        "injuries_by_vehicle_type1_sorted = injuries_by_vehicle_type1.sort_values(by='number_of_persons_injured', ascending=False)\n",
        "\n",
        "# Displaying the top N values\n",
        "top_values = injuries_by_vehicle_type1_sorted.head(top_n)\n",
        "print(\"Top {} Vehicle Type Code 1 for Persons Injured:\".format(top_n))\n",
        "print(top_values)\n"
      ],
      "metadata": {
        "colab": {
          "base_uri": "https://localhost:8080/"
        },
        "id": "cuv75fOnKchN",
        "outputId": "d7df6c69-418d-446a-8ec5-722c48ed18e9"
      },
      "execution_count": null,
      "outputs": [
        {
          "output_type": "stream",
          "name": "stdout",
          "text": [
            "Top 50 Vehicle Type Code 1 for Persons Injured:\n",
            "                      vehicle_type_code1  number_of_persons_injured\n",
            "279                                Sedan                      27016\n",
            "289  Station Wagon/Sport Utility Vehicle                      19727\n",
            "35                                  Bike                       1905\n",
            "308                                 Taxi                       1581\n",
            "234                        Pick-up Truck                       1053\n",
            "40                                   Bus                        914\n",
            "341                              Unknown                        826\n",
            "193                           Motorcycle                        605\n",
            "37                             Box Truck                        528\n",
            "88                                E-Bike                        487\n",
            "90                             E-Scooter                        304\n",
            "347                                  Van                        284\n",
            "189                                Moped                        162\n",
            "65                           Convertible                        120\n",
            "313                 Tractor Truck Diesel                        110\n",
            "23                             Ambulance                        101\n",
            "81                                  Dump                         85\n",
            "195                         Motorscooter                         72\n",
            "139                             Flat Bed                         61\n",
            "192                            Motorbike                         61\n",
            "148                    Garbage or Refuse                         56\n",
            "219                                   PK                         50\n",
            "57                             Carry All                         48\n",
            "89                                 E-Sco                         33\n",
            "311                  Tow Truck / Wrecker                         30\n",
            "64                        Concrete Mixer                         29\n",
            "87                                 E-Bik                         23\n",
            "59                           Chassis Cab                         22\n",
            "161                                 LIMO                         22\n",
            "10                            4 dr sedan                         19\n",
            "176                                MOPED                         19\n",
            "307                               Tanker                         17\n",
            "314               Tractor Truck Gasoline                         17\n",
            "431                                  van                         14\n",
            "16                             AMBULANCE                         14\n",
            "9                                 3-Door                         14\n",
            "131                                FRONT                         12\n",
            "94                                 ELECT                         10\n",
            "121                            FIRETRUCK                          9\n",
            "105                                 FDNY                          8\n",
            "249                     Refrigerated Van                          7\n",
            "180                                MTA B                          7\n",
            "15                                 AMBUL                          6\n",
            "187                             Minibike                          6\n",
            "127                                FORKL                          6\n",
            "212                                   PC                          5\n",
            "29                                 BOX T                          5\n",
            "306                                TRUCK                          5\n",
            "302                                TRACT                          5\n",
            "231                              Pedicab                          5\n"
          ]
        }
      ]
    },
    {
      "cell_type": "code",
      "source": [
        "import pandas as pd\n",
        "\n",
        "\n",
        "\n",
        "# 1. Overall Distribution of Vehicle Types - Max Count\n",
        "vehicle_distribution_max = dataframe1['vehicle_type_code1'].value_counts().idxmax()\n",
        "\n",
        "# 2. Vehicle Type vs. Fatalities and Injuries - Max Count\n",
        "max_fatalities_vehicle = dataframe1.groupby('vehicle_type_code1')['number_of_persons_killed'].sum().idxmax()\n",
        "max_injuries_vehicle = dataframe1.groupby('vehicle_type_code1')['number_of_persons_injured'].sum().idxmax()\n",
        "\n",
        "# 3. Vehicle Type Trends Over Time - Max Count\n",
        "max_trend_vehicle = dataframe1.groupby(['year', 'vehicle_type_code1']).size().unstack().idxmax().idxmax()\n",
        "\n",
        "# 4. Vehicle Type and Weather Conditions - Max Count\n",
        "max_weather_vehicle = pd.crosstab(dataframe1['vehicle_type_code1'], dataframe1['weather']).sum(axis=1).idxmax()\n",
        "\n",
        "# 5. Vehicle Type and Day of the Week - Max Count\n",
        "max_day_vehicle = pd.crosstab(dataframe1['vehicle_type_code1'], dataframe1['day_of_week']).sum(axis=1).idxmax()\n",
        "\n",
        "# 6. Vehicle Type and Time of Day - Max Count\n",
        "max_hour_vehicle = pd.crosstab(dataframe1['vehicle_type_code1'], dataframe1['hour']).sum(axis=1).idxmax()\n",
        "\n",
        "# 7. Most Dangerous Intersections for Each Vehicle Type - Max Count\n",
        "#most_dangerous_intersections_max = (dataframe1.groupby(['vehicle_type_code1', 'cross_street_name'])\n",
        " #                                    ['cross_street_name'].count().idxmax(level=0))\n",
        "\n",
        "\n",
        "# 8. Contributing Factors by Vehicle Type - Max Count\n",
        "max_contributing_factor_vehicle = pd.crosstab(dataframe1['vehicle_type_code1'], dataframe1['contributing_factor_vehicle_1']).sum(axis=1).idxmax()\n",
        "\n",
        "# 9. Summary of Top Vehicle Types by Incidents - Max Count\n",
        "top_vehicle_types_max = dataframe1['vehicle_type_code1'].value_counts().idxmax()\n",
        "\n",
        "# Displaying results\n",
        "print(\"1. Overall Distribution of Vehicle Types - Max Count:\", vehicle_distribution_max)\n",
        "print(\"2. Vehicle Type vs. Fatalities and Injuries - Max Count:\")\n",
        "print(\"   - Max Fatalities Vehicle Type:\", max_fatalities_vehicle)\n",
        "print(\"   - Max Injuries Vehicle Type:\", max_injuries_vehicle)\n",
        "print(\"3. Vehicle Type Trends Over Time - Max Count:\", max_trend_vehicle)\n",
        "print(\"4. Vehicle Type and Weather Conditions - Max Count:\", max_weather_vehicle)\n",
        "print(\"5. Vehicle Type and Day of the Week - Max Count:\", max_day_vehicle)\n",
        "print(\"6. Vehicle Type and Time of Day - Max Count:\", max_hour_vehicle)\n",
        "#rint(\"7. Most Dangerous Intersections for Each Vehicle Type - Max Count:\")\n",
        "#print(most_dangerous_intersections_max)\n",
        "print(\"8. Contributing Factors by Vehicle Type - Max Count:\", max_contributing_factor_vehicle)\n",
        "print(\"9. Summary of Top Vehicle Types by Incidents - Max Count:\", top_vehicle_types_max)\n"
      ],
      "metadata": {
        "colab": {
          "base_uri": "https://localhost:8080/"
        },
        "id": "T3XzZKUudUN2",
        "outputId": "6e7e6a17-cb34-4a38-de06-6161d6358943"
      },
      "execution_count": null,
      "outputs": [
        {
          "output_type": "stream",
          "name": "stdout",
          "text": [
            "1. Overall Distribution of Vehicle Types - Max Count: Sedan\n",
            "2. Vehicle Type vs. Fatalities and Injuries - Max Count:\n",
            "   - Max Fatalities Vehicle Type: Station Wagon/Sport Utility Vehicle\n",
            "   - Max Injuries Vehicle Type: Sedan\n",
            "3. Vehicle Type Trends Over Time - Max Count: 7\n",
            "4. Vehicle Type and Weather Conditions - Max Count: Sedan\n",
            "5. Vehicle Type and Day of the Week - Max Count: Sedan\n",
            "6. Vehicle Type and Time of Day - Max Count: Sedan\n",
            "8. Contributing Factors by Vehicle Type - Max Count: Sedan\n",
            "9. Summary of Top Vehicle Types by Incidents - Max Count: Sedan\n"
          ]
        }
      ]
    },
    {
      "cell_type": "code",
      "source": [
        "import pandas as pd\n",
        "\n",
        "\n",
        "\n",
        "# 2. Vehicle Type vs. Injuries and Fatalities - Max Count\n",
        "max_count_vehicle_type = dataframe1.groupby('vehicle_type_code1').apply(lambda x: x['number_of_persons_injured'].sum() + x['number_of_persons_killed'].sum()).idxmax()\n",
        "max_injuries_count = dataframe1[dataframe1['vehicle_type_code1'] == max_count_vehicle_type]['number_of_persons_injured'].sum()\n",
        "max_fatalities_count = dataframe1[dataframe1['vehicle_type_code1'] == max_count_vehicle_type]['number_of_persons_killed'].sum()\n",
        "\n",
        "# Displaying results\n",
        "print(\" Vehicle Type vs. Injuries and Fatalities - Max Count:\")\n",
        "print(\"   - Max Count Vehicle Type:\", max_count_vehicle_type)\n",
        "print(\"   - Exact Number of Injuries:\", max_injuries_count)\n",
        "print(\"   - Exact Number of Fatalities:\", max_fatalities_count)\n"
      ],
      "metadata": {
        "colab": {
          "base_uri": "https://localhost:8080/"
        },
        "id": "Nc1K2FdCe0S9",
        "outputId": "d931c06a-4ee5-4893-fec7-6321acc750a7"
      },
      "execution_count": null,
      "outputs": [
        {
          "output_type": "stream",
          "name": "stdout",
          "text": [
            " Vehicle Type vs. Injuries and Fatalities - Max Count:\n",
            "   - Max Count Vehicle Type: Sedan\n",
            "   - Exact Number of Injuries: 27016\n",
            "   - Exact Number of Fatalities: 63\n"
          ]
        }
      ]
    },
    {
      "cell_type": "code",
      "source": [
        "import pandas as pd\n",
        "\n",
        "\n",
        "\n",
        "# 2. Vehicle Type vs. Fatalities - Max Count\n",
        "max_fatalities_vehicle_type = dataframe1.groupby('vehicle_type_code1')['number_of_persons_killed'].sum().idxmax()\n",
        "max_fatalities_count = dataframe1[dataframe1['vehicle_type_code1'] == max_fatalities_vehicle_type]['number_of_persons_killed'].sum()\n",
        "\n",
        "# Displaying results\n",
        "print(\"Vehicle Type vs. Fatalities - Max Count:\")\n",
        "print(\"   - Max Fatalities Vehicle Type:\", max_fatalities_vehicle_type)\n",
        "print(\"   - Exact Number of Fatalities:\", max_fatalities_count)\n"
      ],
      "metadata": {
        "colab": {
          "base_uri": "https://localhost:8080/"
        },
        "id": "enNkg812e1XA",
        "outputId": "44ea1ef8-977f-4ac6-877f-80f2779d6e79"
      },
      "execution_count": null,
      "outputs": [
        {
          "output_type": "stream",
          "name": "stdout",
          "text": [
            "Vehicle Type vs. Fatalities - Max Count:\n",
            "   - Max Fatalities Vehicle Type: Station Wagon/Sport Utility Vehicle\n",
            "   - Exact Number of Fatalities: 78\n"
          ]
        }
      ]
    },
    {
      "cell_type": "code",
      "source": [
        "import pandas as pd\n",
        "\n",
        "# 4. Day-Night Analysis - Total Injuries and Fatalities\n",
        "day_night_analysis = dataframe1.groupby('hour').agg({\n",
        "    'number_of_persons_injured': 'sum',\n",
        "    'number_of_persons_killed': 'sum'\n",
        "}).reset_index()\n",
        "\n",
        "# Displaying results\n",
        "print(\"4. Day-Night Analysis - Total Injuries and Fatalities:\")\n",
        "print(day_night_analysis)\n"
      ],
      "metadata": {
        "colab": {
          "base_uri": "https://localhost:8080/"
        },
        "id": "CkR2-sm6iz4f",
        "outputId": "b469efb4-96b1-4fdb-dfcb-4d1a52887c1e"
      },
      "execution_count": null,
      "outputs": [
        {
          "output_type": "stream",
          "name": "stdout",
          "text": [
            "4. Day-Night Analysis - Total Injuries and Fatalities:\n",
            "    hour  number_of_persons_injured  number_of_persons_killed\n",
            "0      0                       2429                        16\n",
            "1      1                       1095                         5\n",
            "2      2                        894                         6\n",
            "3      3                        753                         5\n",
            "4      4                        693                         4\n",
            "5      5                        738                         8\n",
            "6      6                       1074                        13\n",
            "7      7                       1636                         6\n",
            "8      8                       2458                         7\n",
            "9      9                       2109                         5\n",
            "10    10                       2078                        14\n",
            "11    11                       2266                         6\n",
            "12    12                       2610                        11\n",
            "13    13                       2815                        10\n",
            "14    14                       3494                        10\n",
            "15    15                       3829                        10\n",
            "16    16                       3885                        12\n",
            "17    17                       4212                        10\n",
            "18    18                       3904                        15\n",
            "19    19                       3336                         9\n",
            "20    20                       3100                        14\n",
            "21    21                       2845                        13\n",
            "22    22                       2467                         8\n",
            "23    23                       2033                        13\n"
          ]
        }
      ]
    },
    {
      "cell_type": "code",
      "source": [
        "import pandas as pd\n",
        "\n",
        "\n",
        "\n",
        "# Adding a new column 'day_night' based on the 'hour' column\n",
        "dataframe1['day_night'] = dataframe1['hour'].apply(lambda x: 'Day' if 6 <= x < 18 else 'Night')\n",
        "\n",
        "# Total Injuries and Fatalities in Day and Night\n",
        "total_day_night_analysis = dataframe1.groupby('day_night').agg({\n",
        "    'number_of_persons_injured': 'sum',\n",
        "    'number_of_persons_killed': 'sum'\n",
        "}).reset_index()\n",
        "\n",
        "# Displaying results\n",
        "print(\"Total Injuries and Fatalities in Day and Night:\")\n",
        "print(total_day_night_analysis)\n"
      ],
      "metadata": {
        "colab": {
          "base_uri": "https://localhost:8080/"
        },
        "id": "0DT2xrKejW_V",
        "outputId": "a95a529b-e752-4ef3-b5a3-0f6b36b859a4"
      },
      "execution_count": null,
      "outputs": [
        {
          "output_type": "stream",
          "name": "stdout",
          "text": [
            "5. Total Injuries and Fatalities in Day and Night:\n",
            "  day_night  number_of_persons_injured  number_of_persons_killed\n",
            "0       Day                      32466                       114\n",
            "1     Night                      24287                       116\n"
          ]
        }
      ]
    },
    {
      "cell_type": "code",
      "source": [
        "import pandas as pd\n",
        "\n",
        "\n",
        "# Deaths for Each Category\n",
        "deaths_by_category = dataframe1[['number_of_cyclist_killed', 'number_of_pedestrians_killed', 'number_of_motorist_killed']].sum()\n",
        "\n",
        "# Displaying results\n",
        "print(\"Deaths for Each Category:\")\n",
        "print(deaths_by_category)\n"
      ],
      "metadata": {
        "colab": {
          "base_uri": "https://localhost:8080/"
        },
        "id": "Do56mnfwlMth",
        "outputId": "87053120-d769-410d-b786-3449deb49f40"
      },
      "execution_count": null,
      "outputs": [
        {
          "output_type": "stream",
          "name": "stdout",
          "text": [
            "Deaths for Each Category:\n",
            "number_of_cyclist_killed         29\n",
            "number_of_pedestrians_killed    114\n",
            "number_of_motorist_killed        77\n",
            "dtype: int64\n"
          ]
        }
      ]
    },
    {
      "cell_type": "code",
      "source": [
        "import pandas as pd\n",
        "\n",
        "\n",
        "# Deaths for Each Category\n",
        "deaths_by_category = dataframe1[['number_of_cyclist_injured', 'number_of_pedestrians_injured', 'number_of_motorist_injured']].sum()\n",
        "\n",
        "# Displaying results\n",
        "print(\"Injuries for Each Category:\")\n",
        "print(deaths_by_category)"
      ],
      "metadata": {
        "colab": {
          "base_uri": "https://localhost:8080/"
        },
        "id": "0T9wMRfZYKJ-",
        "outputId": "02ba0f1b-960f-453a-96ef-19a41c4fd992"
      },
      "execution_count": null,
      "outputs": [
        {
          "output_type": "stream",
          "name": "stdout",
          "text": [
            "Injuries for Each Category:\n",
            "number_of_cyclist_injured         6934\n",
            "number_of_pedestrians_injured    10537\n",
            "number_of_motorist_injured       38056\n",
            "dtype: int64\n"
          ]
        }
      ]
    },
    {
      "cell_type": "code",
      "source": [
        "import pandas as pd\n",
        "\n",
        "\n",
        "\n",
        "# Adding a new column 'day_night' based on the 'hour' column\n",
        "dataframe1['day_night'] = dataframe1['hour'].apply(lambda x: 'Day' if 6 <= x < 18 else 'Night')\n",
        "\n",
        "#  Deaths for Each Category in Day and Night\n",
        "deaths_by_category_day_night = dataframe1.groupby(['day_night'])[['number_of_cyclist_killed', 'number_of_pedestrians_killed', 'number_of_motorist_killed']].sum()\n",
        "\n",
        "# Displaying results\n",
        "print(\"Deaths for Each Category in Day and Night:\")\n",
        "print(deaths_by_category_day_night)\n"
      ],
      "metadata": {
        "colab": {
          "base_uri": "https://localhost:8080/"
        },
        "id": "VUqkq5WalmDC",
        "outputId": "1067e93c-22d3-4bac-f23d-391353a5fc0c"
      },
      "execution_count": null,
      "outputs": [
        {
          "output_type": "stream",
          "name": "stdout",
          "text": [
            "Deaths for Each Category in Day and Night:\n",
            "           number_of_cyclist_killed  number_of_pedestrians_killed  \\\n",
            "day_night                                                           \n",
            "Day                              14                            62   \n",
            "Night                            15                            52   \n",
            "\n",
            "           number_of_motorist_killed  \n",
            "day_night                             \n",
            "Day                               32  \n",
            "Night                             45  \n"
          ]
        }
      ]
    },
    {
      "cell_type": "code",
      "source": [
        "import pandas as pd\n",
        "\n",
        "# Adding a new column 'day_night' based on the 'hour' column\n",
        "dataframe1['day_night'] = dataframe1['hour'].apply(lambda x: 'Day' if 6 <= x < 18 else 'Night')\n",
        "\n",
        "# 7. Deaths for Each Category in Day and Night\n",
        "deaths_by_category_day_night = dataframe1.groupby(['day_night'])[['number_of_cyclist_killed', 'number_of_pedestrians_killed', 'number_of_motorist_killed']].sum()\n",
        "\n",
        "# Displaying results\n",
        "print(\"7. Deaths for Each Category in Day and Night:\")\n",
        "print(deaths_by_category_day_night)\n"
      ],
      "metadata": {
        "colab": {
          "base_uri": "https://localhost:8080/"
        },
        "id": "CHPE2pn5oTef",
        "outputId": "4725aaab-476e-43a5-bd40-1dc17af3a871"
      },
      "execution_count": null,
      "outputs": [
        {
          "output_type": "stream",
          "name": "stdout",
          "text": [
            "7. Deaths for Each Category in Day and Night:\n",
            "           number_of_cyclist_killed  number_of_pedestrians_killed  \\\n",
            "day_night                                                           \n",
            "Day                              14                            62   \n",
            "Night                            15                            52   \n",
            "\n",
            "           number_of_motorist_killed  \n",
            "day_night                             \n",
            "Day                               32  \n",
            "Night                             45  \n"
          ]
        }
      ]
    },
    {
      "cell_type": "code",
      "source": [
        "import pandas as pd\n",
        "\n",
        "\n",
        "# Eliminating leading and trailing white spaces from 'street_name'\n",
        "dataframe1['on_street_name'] = dataframe1['on_street_name'].str.strip()\n",
        "\n",
        "# 8. Total Injuries and Fatalities by Street\n",
        "injuries_fatalities_by_street = dataframe1.groupby('on_street_name').agg({\n",
        "    'number_of_persons_injured': 'sum',\n",
        "    'number_of_persons_killed': 'sum'\n",
        "}).reset_index()\n",
        "\n",
        "# Displaying results\n",
        "print(\"8. Total Injuries and Fatalities by Street:\")\n",
        "print(injuries_fatalities_by_street)\n",
        "\n",
        "# 9. Top 3 Streets with Maximum Fatalities\n",
        "top_3_fatalities_streets = injuries_fatalities_by_street.nlargest(5, 'number_of_persons_killed')\n",
        "print(\"\\n9. Top 3 Streets with Maximum Fatalities:\")\n",
        "print(top_3_fatalities_streets)\n",
        "\n",
        "# 10. Top 3 Streets with Maximum Injuries\n",
        "top_3_injuries_streets = injuries_fatalities_by_street.nlargest(5, 'number_of_persons_injured')\n",
        "print(\"\\n10. Top 3 Streets with Maximum Injuries:\")\n",
        "print(top_3_injuries_streets)\n"
      ],
      "metadata": {
        "colab": {
          "base_uri": "https://localhost:8080/"
        },
        "id": "zAZU5KCPp-C3",
        "outputId": "6ef5673a-d2f2-4d79-ab5f-0fe243496ae7"
      },
      "execution_count": null,
      "outputs": [
        {
          "output_type": "stream",
          "name": "stdout",
          "text": [
            "8. Total Injuries and Fatalities by Street:\n",
            "      on_street_name  number_of_persons_injured  number_of_persons_killed\n",
            "0           1 AVENUE                          6                         0\n",
            "1            1 PLACE                          3                         0\n",
            "2           1 STREET                          2                         0\n",
            "3          10 AVENUE                         73                         0\n",
            "4          10 STREET                          6                         0\n",
            "...              ...                        ...                       ...\n",
            "1334  WYCKOFF STREET                          4                         0\n",
            "1335    WYONA STREET                         25                         0\n",
            "1336    WYTHE AVENUE                        130                         0\n",
            "1337     WYTHE PLACE                          0                         0\n",
            "1338     YORK STREET                          9                         0\n",
            "\n",
            "[1339 rows x 3 columns]\n",
            "\n",
            "9. Top 3 Streets with Maximum Fatalities:\n",
            "       on_street_name  number_of_persons_injured  number_of_persons_killed\n",
            "957             OTHER                      13980                        25\n",
            "49           3 AVENUE                        407                        10\n",
            "164   ATLANTIC AVENUE                       1222                         7\n",
            "944     OCEAN PARKWAY                        532                         7\n",
            "802  LINDEN BOULEVARD                        959                         6\n",
            "\n",
            "10. Top 3 Streets with Maximum Injuries:\n",
            "        on_street_name  number_of_persons_injured  number_of_persons_killed\n",
            "957              OTHER                      13980                        25\n",
            "164    ATLANTIC AVENUE                       1222                         7\n",
            "802   LINDEN BOULEVARD                        959                         6\n",
            "610    FLATBUSH AVENUE                        757                         3\n",
            "1213      UTICA AVENUE                        690                         4\n"
          ]
        }
      ]
    },
    {
      "cell_type": "code",
      "source": [
        "import pandas as pd\n",
        "\n",
        "\n",
        "# 8. Total Injuries and Fatalities by Street\n",
        "injuries_fatalities_by_street = dataframe1.groupby('street_name').agg({\n",
        "    'number_of_persons_injured': 'sum',\n",
        "    'number_of_persons_killed': 'sum'\n",
        "}).reset_index()\n",
        "\n",
        "# Displaying results\n",
        "print(\"8. Total Injuries and Fatalities by Street:\")\n",
        "print(injuries_fatalities_by_street)\n",
        "\n",
        "# 9. Top 3 Streets with Maximum Fatalities\n",
        "top_3_fatalities_streets = injuries_fatalities_by_street.nlargest(3, 'number_of_persons_killed')\n",
        "print(\"\\n9. Top 3 Streets with Maximum Fatalities:\")\n",
        "print(top_3_fatalities_streets)\n",
        "\n",
        "# 10. Top 3 Streets with Maximum Injuries\n",
        "top_3_injuries_streets = injuries_fatalities_by_street.nlargest(3, 'number_of_persons_injured')\n",
        "print(\"\\n10. Top 3 Streets with Maximum Injuries:\")\n",
        "print(top_3_injuries_streets)\n"
      ],
      "metadata": {
        "colab": {
          "base_uri": "https://localhost:8080/"
        },
        "id": "f80wqIIiqL8a",
        "outputId": "67c9cda8-9f89-417a-aaef-2898c82fb11a"
      },
      "execution_count": null,
      "outputs": [
        {
          "output_type": "stream",
          "name": "stdout",
          "text": [
            "8. Total Injuries and Fatalities by Street:\n",
            "                           street_name  number_of_persons_injured  \\\n",
            "0                               AVENUE                       1015   \n",
            "1         AVENUE                                                1   \n",
            "2        AVENUE                                               760   \n",
            "3       AVENUE                                               1135   \n",
            "4                                DRIVE                          0   \n",
            "...                                ...                        ...   \n",
            "1727                      WYTHE AVENUE                         54   \n",
            "1728  WYTHE AVENUE                                             76   \n",
            "1729  WYTHE PLACE                                               0   \n",
            "1730                       YORK STREET                          4   \n",
            "1731  YORK STREET                                               5   \n",
            "\n",
            "      number_of_persons_killed  \n",
            "0                            8  \n",
            "1                            0  \n",
            "2                            1  \n",
            "3                           12  \n",
            "4                            0  \n",
            "...                        ...  \n",
            "1727                         0  \n",
            "1728                         0  \n",
            "1729                         0  \n",
            "1730                         0  \n",
            "1731                         0  \n",
            "\n",
            "[1732 rows x 3 columns]\n",
            "\n",
            "9. Top 3 Streets with Maximum Fatalities:\n",
            "                          street_name  number_of_persons_injured  \\\n",
            "1155                            OTHER                      13980   \n",
            "3      AVENUE                                               1135   \n",
            "0                              AVENUE                       1015   \n",
            "\n",
            "      number_of_persons_killed  \n",
            "1155                        25  \n",
            "3                           12  \n",
            "0                            8  \n",
            "\n",
            "10. Top 3 Streets with Maximum Injuries:\n",
            "                         street_name  number_of_persons_injured  \\\n",
            "1155                           OTHER                      13980   \n",
            "499                            EAST                        2119   \n",
            "11     STREET                                              1627   \n",
            "\n",
            "      number_of_persons_killed  \n",
            "1155                        25  \n",
            "499                          6  \n",
            "11                           8  \n"
          ]
        }
      ]
    },
    {
      "cell_type": "code",
      "source": [
        "dataframe1.info()"
      ],
      "metadata": {
        "colab": {
          "base_uri": "https://localhost:8080/"
        },
        "id": "2SonEhwkrOMf",
        "outputId": "f0ead6d4-bd65-4a6a-84c8-41812d3ea848"
      },
      "execution_count": null,
      "outputs": [
        {
          "output_type": "stream",
          "name": "stdout",
          "text": [
            "<class 'pandas.core.frame.DataFrame'>\n",
            "RangeIndex: 160512 entries, 0 to 160511\n",
            "Data columns (total 37 columns):\n",
            " #   Column                         Non-Null Count   Dtype         \n",
            "---  ------                         --------------   -----         \n",
            " 0   index                          160512 non-null  int64         \n",
            " 1   borough                        160512 non-null  object        \n",
            " 2   contributing_factor_vehicle_1  160512 non-null  object        \n",
            " 3   contributing_factor_vehicle_2  160512 non-null  object        \n",
            " 4   contributing_factor_vehicle_3  160512 non-null  object        \n",
            " 5   contributing_factor_vehicle_4  160512 non-null  object        \n",
            " 6   contributing_factor_vehicle_5  160512 non-null  object        \n",
            " 7   cross_street_name              160512 non-null  object        \n",
            " 8   timestamp                      160512 non-null  datetime64[ns]\n",
            " 9   latitude                       160512 non-null  float64       \n",
            " 10  longitude                      160512 non-null  float64       \n",
            " 11  location                       160512 non-null  object        \n",
            " 12  number_of_cyclist_injured      160512 non-null  int64         \n",
            " 13  number_of_cyclist_killed       160512 non-null  int64         \n",
            " 14  number_of_motorist_injured     160512 non-null  int64         \n",
            " 15  number_of_motorist_killed      160512 non-null  int64         \n",
            " 16  number_of_pedestrians_injured  160512 non-null  int64         \n",
            " 17  number_of_pedestrians_killed   160512 non-null  int64         \n",
            " 18  number_of_persons_injured      160512 non-null  int64         \n",
            " 19  number_of_persons_killed       160512 non-null  int64         \n",
            " 20  off_street_name                160512 non-null  object        \n",
            " 21  on_street_name                 160512 non-null  object        \n",
            " 22  unique_key                     160512 non-null  int64         \n",
            " 23  vehicle_type_code1             160512 non-null  object        \n",
            " 24  vehicle_type_code2             160512 non-null  object        \n",
            " 25  vehicle_type_code_3            160512 non-null  object        \n",
            " 26  vehicle_type_code_4            160512 non-null  object        \n",
            " 27  vehicle_type_code_5            160512 non-null  object        \n",
            " 28  zip_code                       160512 non-null  int64         \n",
            " 29  year                           160512 non-null  int64         \n",
            " 30  month                          160512 non-null  int64         \n",
            " 31  day_of_week                    160512 non-null  object        \n",
            " 32  hour                           160512 non-null  int64         \n",
            " 33  date                           160512 non-null  datetime64[ns]\n",
            " 34  weather                        160512 non-null  object        \n",
            " 35  day_night                      160512 non-null  object        \n",
            " 36  street_name                    160512 non-null  object        \n",
            "dtypes: datetime64[ns](2), float64(2), int64(14), object(19)\n",
            "memory usage: 45.3+ MB\n"
          ]
        }
      ]
    },
    {
      "cell_type": "code",
      "source": [
        "import pandas as pd\n",
        "\n",
        "# Zip Code with Maximum Accidents, Deaths, and Injuries\n",
        "max_accidents_zip = dataframe1.groupby('zip_code')['unique_key'].count().idxmax()\n",
        "max_deaths_zip = dataframe1.groupby('zip_code')['number_of_persons_killed'].sum().idxmax()\n",
        "max_injuries_zip = dataframe1.groupby('zip_code')['number_of_persons_injured'].sum().idxmax()\n",
        "\n",
        "# Displaying results\n",
        "print(\"11. Zip Code with Maximum Accidents, Deaths, and Injuries:\")\n",
        "print(\"   - Max Accidents Zip Code:\", max_accidents_zip)\n",
        "print(\"   - Max Deaths Zip Code:\", max_deaths_zip)\n",
        "print(\"   - Max Injuries Zip Code:\", max_injuries_zip)\n"
      ],
      "metadata": {
        "colab": {
          "base_uri": "https://localhost:8080/"
        },
        "id": "YY4HCPiuufgx",
        "outputId": "b005e093-3277-4f08-d4db-caf716aeb78d"
      },
      "execution_count": null,
      "outputs": [
        {
          "output_type": "stream",
          "name": "stdout",
          "text": [
            "11. Zip Code with Maximum Accidents, Deaths, and Injuries:\n",
            "   - Max Accidents Zip Code: 11207\n",
            "   - Max Deaths Zip Code: 11234\n",
            "   - Max Injuries Zip Code: 11207\n"
          ]
        }
      ]
    },
    {
      "cell_type": "code",
      "source": [
        "import pandas as pd\n",
        "\n",
        "\n",
        "# Top 5 Zip Codes with Maximum Deaths\n",
        "top_5_deaths_zip = dataframe1.groupby('zip_code')['number_of_persons_killed'].sum().nlargest(5).reset_index()\n",
        "\n",
        "# Top 5 Zip Codes with Maximum Injuries\n",
        "top_5_injuries_zip = dataframe1.groupby('zip_code')['number_of_persons_injured'].sum().nlargest(5).reset_index()\n",
        "\n",
        "# Displaying results\n",
        "print(\"12. Top 5 Zip Codes with Maximum Deaths:\")\n",
        "print(top_5_deaths_zip)\n",
        "\n",
        "print(\"\\n13. Top 5 Zip Codes with Maximum Injuries:\")\n",
        "print(top_5_injuries_zip)\n",
        "\n"
      ],
      "metadata": {
        "colab": {
          "base_uri": "https://localhost:8080/"
        },
        "id": "MANZNbJLuqGZ",
        "outputId": "dbaba2f5-bb46-453b-d245-49b6063beb56"
      },
      "execution_count": null,
      "outputs": [
        {
          "output_type": "stream",
          "name": "stdout",
          "text": [
            "12. Top 5 Zip Codes with Maximum Deaths:\n",
            "   zip_code  number_of_persons_killed\n",
            "0     11234                        19\n",
            "1     11207                        18\n",
            "2     11236                        18\n",
            "3     11206                        11\n",
            "4     11208                        10\n",
            "\n",
            "13. Top 5 Zip Codes with Maximum Injuries:\n",
            "   zip_code  number_of_persons_injured\n",
            "0     11207                       4274\n",
            "1     11236                       3702\n",
            "2     11203                       3072\n",
            "3     11212                       3033\n",
            "4     11234                       2800\n"
          ]
        }
      ]
    },
    {
      "cell_type": "code",
      "source": [
        "import pandas as pd\n",
        "\n",
        "\n",
        "\n",
        "# Create a new column with sorted combinations of contributing factors (ignoring \"Unspecified\")\n",
        "dataframe1['sorted_contrib_factor'] = dataframe1.apply(lambda row: '-'.join(sorted(filter(lambda x: x != 'Unspecified', [row['contributing_factor_vehicle_1'], row['contributing_factor_vehicle_2']]))), axis=1)\n",
        "\n",
        "# Drop rows where \"Unspecified\" is present in either contributing factor column\n",
        "dataframe1 = dataframe1[(dataframe1['contributing_factor_vehicle_1'] != 'Unspecified') & (dataframe1['contributing_factor_vehicle_2'] != 'Unspecified')]\n",
        "\n",
        "# Group by the sorted combinations and count occurrences\n",
        "contrib_factor_counts = dataframe1.groupby('sorted_contrib_factor').size().reset_index(name='count')\n",
        "\n",
        "# Sort the counts in descending order\n",
        "contrib_factor_counts_sorted = contrib_factor_counts.sort_values(by='count', ascending=False)\n",
        "\n",
        "# Display the top 10 combinations\n",
        "top_10_contrib_factor_combinations = contrib_factor_counts_sorted.head(10)\n",
        "print(\"Top 10 Contributing Factor Combinations and Occurrence Counts (Ignoring 'Unspecified'):\")\n",
        "print(top_10_contrib_factor_combinations)\n",
        "\n",
        "# Drop the temporary column if not needed\n",
        "dataframe1.drop('sorted_contrib_factor', axis=1, inplace=True)\n",
        "\n"
      ],
      "metadata": {
        "colab": {
          "base_uri": "https://localhost:8080/"
        },
        "id": "vd1hEQ6nwiFm",
        "outputId": "305c15a2-c930-463d-9e05-3d29f205fff4"
      },
      "execution_count": null,
      "outputs": [
        {
          "output_type": "stream",
          "name": "stdout",
          "text": [
            "Top 10 Contributing Factor Combinations and Occurrence Counts (Ignoring 'Unspecified'):\n",
            "                                 sorted_contrib_factor  count\n",
            "101  Driver Inattention/Distraction-Driver Inattent...   4702\n",
            "285                    Other Vehicular-Other Vehicular    953\n",
            "117     Driver Inattention/Distraction-Other Vehicular    604\n",
            "350  Passing or Lane Usage Improper-Passing or Lane...    465\n",
            "107  Driver Inattention/Distraction-Failure to Yiel...    430\n",
            "189  Failure to Yield Right-of-Way-Failure to Yield...    382\n",
            "122  Driver Inattention/Distraction-Passing or Lane...    332\n",
            "395  Traffic Control Disregarded-Traffic Control Di...    308\n",
            "209         Failure to Yield Right-of-Way-Unsafe Speed    305\n",
            "339            Passing Too Closely-Passing Too Closely    283\n"
          ]
        }
      ]
    },
    {
      "cell_type": "code",
      "source": [
        "import pandas as pd\n",
        "\n",
        "\n",
        "# 14. Contributing Factor with Maximum Accidents, Deaths, and Injuries\n",
        "max_accidents_factor = dataframe1.groupby('contributing_factor_vehicle_1')['unique_key'].count().idxmax()\n",
        "max_deaths_factor = dataframe1.groupby('contributing_factor_vehicle_1')['number_of_persons_killed'].sum().idxmax()\n",
        "max_injuries_factor = dataframe1.groupby('contributing_factor_vehicle_1')['number_of_persons_injured'].sum().idxmax()\n",
        "\n",
        "# Displaying results\n",
        "print(\"14. Contributing Factor with Maximum Accidents, Deaths, and Injuries:\")\n",
        "print(\"   - Max Accidents Contributing Factor:\", max_accidents_factor)\n",
        "print(\"   - Max Deaths Contributing Factor:\", max_deaths_factor)\n",
        "print(\"   - Max Injuries Contributing Factor:\", max_injuries_factor)\n"
      ],
      "metadata": {
        "colab": {
          "base_uri": "https://localhost:8080/"
        },
        "id": "QLu96Hwhx3xa",
        "outputId": "17ac2b69-c07b-4169-e7fe-5d8a6eeea538"
      },
      "execution_count": null,
      "outputs": [
        {
          "output_type": "stream",
          "name": "stdout",
          "text": [
            "14. Contributing Factor with Maximum Accidents, Deaths, and Injuries:\n",
            "   - Max Accidents Contributing Factor: Driver Inattention/Distraction\n",
            "   - Max Deaths Contributing Factor: Driver Inattention/Distraction\n",
            "   - Max Injuries Contributing Factor: Driver Inattention/Distraction\n"
          ]
        }
      ]
    },
    {
      "cell_type": "code",
      "source": [
        "import pandas as pd\n",
        "\n",
        "# Create a summary table for deaths and injuries by contributing factor 1\n",
        "contrib_factor_summary = dataframe1.groupby('contributing_factor_vehicle_1').agg(\n",
        "    total_deaths=pd.NamedAgg(column='number_of_persons_killed', aggfunc='sum'),\n",
        "    total_injuries=pd.NamedAgg(column='number_of_persons_injured', aggfunc='sum')\n",
        ").reset_index()\n",
        "\n",
        "# Sort the summary table by total deaths in descending order\n",
        "contrib_factor_summary_sorted = contrib_factor_summary.sort_values(by='total_deaths', ascending=False)\n",
        "\n",
        "# Display the summary table\n",
        "print(\"Summary Table: Deaths and Injuries by Contributing Factor 1\")\n",
        "print(contrib_factor_summary_sorted)\n",
        "\n",
        "# Additional Analysis: Top 5 Contributing Factors for Deaths and Injuries\n",
        "top_5_factors_deaths = contrib_factor_summary_sorted.head(5)['contributing_factor_vehicle_1'].tolist()\n",
        "top_5_factors_injuries = contrib_factor_summary_sorted.head(5)['contributing_factor_vehicle_1'].tolist()\n",
        "\n",
        "print(\"\\nAdditional Analysis:\")\n",
        "print(\"Top 5 Contributing Factors for Deaths:\", top_5_factors_deaths)\n",
        "print(\"Top 5 Contributing Factors for Injuries:\", top_5_factors_injuries)\n"
      ],
      "metadata": {
        "colab": {
          "base_uri": "https://localhost:8080/"
        },
        "id": "YGPksJdVySwq",
        "outputId": "b39b84a3-2cf0-4ab7-f40a-558afdb62c95"
      },
      "execution_count": null,
      "outputs": [
        {
          "output_type": "stream",
          "name": "stdout",
          "text": [
            "Summary Table: Deaths and Injuries by Contributing Factor 1\n",
            "                        contributing_factor_vehicle_1  total_deaths  \\\n",
            "7                      Driver Inattention/Distraction             5   \n",
            "45                                       Unsafe Speed             4   \n",
            "8                                 Driver Inexperience             3   \n",
            "13                      Failure to Yield Right-of-Way             2   \n",
            "47                            View Obstructed/Limited             1   \n",
            "43                                 Turning Improperly             1   \n",
            "42                        Traffic Control Disregarded             1   \n",
            "34                     Reaction to Uninvolved Vehicle             1   \n",
            "35                       Shoulders Defective/Improper             0   \n",
            "28                                Passing Too Closely             0   \n",
            "29                     Passing or Lane Usage Improper             0   \n",
            "30                                 Pavement Defective             0   \n",
            "31                                  Pavement Slippery             0   \n",
            "32  Pedestrian/Bicyclist/Other Pedestrian Error/Co...             0   \n",
            "33                                Physical Disability             0   \n",
            "38                                     Tinted Windows             0   \n",
            "36                                   Steering Failure             0   \n",
            "37                                            Texting             0   \n",
            "26                                  Oversized Vehicle             0   \n",
            "39                            Tire Failure/Inadequate             0   \n",
            "40                                Tow Hitch Defective             0   \n",
            "41        Traffic Control Device Improper/Non-Working             0   \n",
            "44                               Unsafe Lane Changing             0   \n",
            "46                                  Vehicle Vandalism             0   \n",
            "27                              Passenger Distraction             0   \n",
            "0                               Accelerator Defective             0   \n",
            "25                            Outside Car Distraction             0   \n",
            "1                        Aggressive Driving/Road Rage             0   \n",
            "2                                 Alcohol Involvement             0   \n",
            "3                                      Animals Action             0   \n",
            "4                                    Backing Unsafely             0   \n",
            "5                                    Brakes Defective             0   \n",
            "6                              Cell Phone (hand-Held)             0   \n",
            "9                          Driverless/Runaway Vehicle             0   \n",
            "10                                    Drugs (illegal)             0   \n",
            "11                                 Eating or Drinking             0   \n",
            "12                              Failure to Keep Right             0   \n",
            "14                                    Fatigued/Drowsy             0   \n",
            "15                                        Fell Asleep             0   \n",
            "16                              Following Too Closely             0   \n",
            "17                                              Glare             0   \n",
            "18                               Headlights Defective             0   \n",
            "19                                             Illnes             0   \n",
            "20                   Lane Marking Improper/Inadequate             0   \n",
            "21                                 Lost Consciousness             0   \n",
            "22                                 Obstruction/Debris             0   \n",
            "23                             Other Lighting Defects             0   \n",
            "24                                    Other Vehicular             0   \n",
            "\n",
            "    total_injuries  \n",
            "7             2865  \n",
            "45             403  \n",
            "8              178  \n",
            "13             654  \n",
            "47             200  \n",
            "43             167  \n",
            "42             433  \n",
            "34             158  \n",
            "35               0  \n",
            "28             119  \n",
            "29             249  \n",
            "30               2  \n",
            "31              84  \n",
            "32             218  \n",
            "33               0  \n",
            "38               5  \n",
            "36               4  \n",
            "37               0  \n",
            "26              44  \n",
            "39               1  \n",
            "40               0  \n",
            "41              36  \n",
            "44              88  \n",
            "46               0  \n",
            "27              24  \n",
            "0                3  \n",
            "25              29  \n",
            "1               26  \n",
            "2               68  \n",
            "3                1  \n",
            "4               89  \n",
            "5               21  \n",
            "6                9  \n",
            "9                4  \n",
            "10               4  \n",
            "11               1  \n",
            "12              15  \n",
            "14               0  \n",
            "15              17  \n",
            "16             329  \n",
            "17               7  \n",
            "18               4  \n",
            "19               4  \n",
            "20              11  \n",
            "21               5  \n",
            "22              12  \n",
            "23              10  \n",
            "24             889  \n",
            "\n",
            "Additional Analysis:\n",
            "Top 5 Contributing Factors for Deaths: ['Driver Inattention/Distraction', 'Unsafe Speed', 'Driver Inexperience', 'Failure to Yield Right-of-Way', 'View Obstructed/Limited']\n",
            "Top 5 Contributing Factors for Injuries: ['Driver Inattention/Distraction', 'Unsafe Speed', 'Driver Inexperience', 'Failure to Yield Right-of-Way', 'View Obstructed/Limited']\n"
          ]
        }
      ]
    },
    {
      "cell_type": "code",
      "source": [],
      "metadata": {
        "id": "4-stqTXuySrO"
      },
      "execution_count": null,
      "outputs": []
    }
  ]
}